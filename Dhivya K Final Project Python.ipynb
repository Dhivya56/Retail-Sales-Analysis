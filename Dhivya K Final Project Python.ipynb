{
 "cells": [
  {
   "cell_type": "code",
   "execution_count": 1,
   "id": "b389a646-3468-4794-8f5b-1053793ed6b4",
   "metadata": {},
   "outputs": [],
   "source": [
    "import pandas as pd"
   ]
  },
  {
   "cell_type": "code",
   "execution_count": 2,
   "id": "8d252796-f0a4-4a49-90a7-1607e761f58a",
   "metadata": {},
   "outputs": [],
   "source": [
    "import numpy as np"
   ]
  },
  {
   "cell_type": "code",
   "execution_count": 3,
   "id": "40684e85-647e-4f8e-b34c-1bf08d7c038f",
   "metadata": {},
   "outputs": [],
   "source": [
    "import mysql.connector"
   ]
  },
  {
   "cell_type": "code",
   "execution_count": 4,
   "id": "76c05392-db61-4c89-be2d-e646fc83d749",
   "metadata": {},
   "outputs": [],
   "source": [
    "conn=mysql.connector.connect(host=\"127.0.0.1\",user=\"root\",password=\"S@3125\",database=\"retailsales\")"
   ]
  },
  {
   "cell_type": "code",
   "execution_count": 6,
   "id": "9303f99d-ee30-4df5-89d1-b38cc9267c05",
   "metadata": {},
   "outputs": [],
   "source": [
    "orders = \"SELECT * FROM ordersssss;\""
   ]
  },
  {
   "cell_type": "code",
   "execution_count": 7,
   "id": "fbb81b50-c20c-4c1f-bd28-8e34bf513f56",
   "metadata": {},
   "outputs": [
    {
     "data": {
      "text/plain": [
       "'SELECT * FROM ordersssss;'"
      ]
     },
     "execution_count": 7,
     "metadata": {},
     "output_type": "execute_result"
    }
   ],
   "source": [
    "orders"
   ]
  },
  {
   "cell_type": "code",
   "execution_count": 8,
   "id": "70b9b004-d9ac-477b-a9a7-3a1f8503071a",
   "metadata": {},
   "outputs": [
    {
     "name": "stdout",
     "output_type": "stream",
     "text": [
      "      order_id  customer_id  order_status  order_date required_date  \\\n",
      "0            1          259             4    1/1/2016      1/3/2016   \n",
      "1            2         1212             4    1/1/2016      1/4/2016   \n",
      "2            3          523             4    1/2/2016      1/5/2016   \n",
      "3            4          175             4    1/3/2016      1/4/2016   \n",
      "4            5         1324             4    1/3/2016      1/6/2016   \n",
      "...        ...          ...           ...         ...           ...   \n",
      "1610      1611            6             3    9/6/2018      9/6/2018   \n",
      "1611      1612            3             3  10/21/2018    10/21/2018   \n",
      "1612      1613            1             3  11/18/2018    11/18/2018   \n",
      "1613      1614          135             3  11/28/2018    11/28/2018   \n",
      "1614      1615          136             3  12/28/2018    12/28/2018   \n",
      "\n",
      "     shipped_date  store_id  staff_id  \n",
      "0        1/3/2016         1         2  \n",
      "1        1/3/2016         2         6  \n",
      "2        1/3/2016         2         7  \n",
      "3        1/5/2016         1         3  \n",
      "4        1/6/2016         2         6  \n",
      "...           ...       ...       ...  \n",
      "1610         None         2         7  \n",
      "1611         None         1         3  \n",
      "1612         None         2         6  \n",
      "1613         None         3         8  \n",
      "1614         None         3         8  \n",
      "\n",
      "[1615 rows x 8 columns]\n"
     ]
    },
    {
     "name": "stderr",
     "output_type": "stream",
     "text": [
      "C:\\Users\\hi\\AppData\\Local\\Temp\\ipykernel_27780\\2322151253.py:1: UserWarning: pandas only supports SQLAlchemy connectable (engine/connection) or database string URI or sqlite3 DBAPI2 connection. Other DBAPI2 objects are not tested. Please consider using SQLAlchemy.\n",
      "  df=pd.read_sql(orders,conn)\n"
     ]
    }
   ],
   "source": [
    "df=pd.read_sql(orders,conn)\n",
    "print(df)"
   ]
  },
  {
   "cell_type": "code",
   "execution_count": 9,
   "id": "0ba28fc9-282a-4296-b8d5-76e1298b3e85",
   "metadata": {},
   "outputs": [],
   "source": [
    "customers = \"SELECT * FROM customerss;\""
   ]
  },
  {
   "cell_type": "code",
   "execution_count": 10,
   "id": "6606fefe-e661-4270-9c52-09977ed8d077",
   "metadata": {},
   "outputs": [
    {
     "name": "stdout",
     "output_type": "stream",
     "text": [
      "      customer_id  first_name last_name           phone  \\\n",
      "0               1       Debra     Burks              NA   \n",
      "1               2       Kasha      Todd              NA   \n",
      "2               3      Tameka    Fisher              NA   \n",
      "3               4       Daryl    Spence              NA   \n",
      "4               5  Charolette      Rice  (916) 381-6003   \n",
      "...           ...         ...       ...             ...   \n",
      "1440         1441      Jamaal  Morrison              NA   \n",
      "1441         1442      Cassie     Cline              NA   \n",
      "1442         1443      Lezlie      Lamb              NA   \n",
      "1443         1444      Ivette     Estes              NA   \n",
      "1444         1445       Ester   Acevedo              NA   \n",
      "\n",
      "                        email                  street           city state  \\\n",
      "0       debra.burks@yahoo.com       9273 Thorne Ave.    Orchard Park    NY   \n",
      "1        kasha.todd@yahoo.com        910 Vine Street        Campbell    CA   \n",
      "2       tameka.fisher@aol.com   769C Honey Creek St.   Redondo Beach    CA   \n",
      "3        daryl.spence@aol.com         988 Pearl Lane       Uniondale    NY   \n",
      "4     charolette.rice@msn.com          107 River Dr.      Sacramento    CA   \n",
      "...                       ...                     ...            ...   ...   \n",
      "1440  jamaal.morrison@msn.com  796 SE. Nut Swamp St.   Staten Island    NY   \n",
      "1441   cassie.cline@gmail.com    947 Lafayette Drive        Brooklyn    NY   \n",
      "1442    lezlie.lamb@gmail.com  401 Brandywine Street   Central Islip    NY   \n",
      "1443   ivette.estes@gmail.com  88 N. Canterbury Ave.     Canandaigua    NY   \n",
      "1444  ester.acevedo@gmail.com        671 Miles Court     San Lorenzo    CA   \n",
      "\n",
      "      zipcode  \n",
      "0       14127  \n",
      "1       95008  \n",
      "2       90278  \n",
      "3       11553  \n",
      "4       95820  \n",
      "...       ...  \n",
      "1440    10301  \n",
      "1441    11201  \n",
      "1442    11722  \n",
      "1443    14424  \n",
      "1444    94580  \n",
      "\n",
      "[1445 rows x 9 columns]\n"
     ]
    },
    {
     "name": "stderr",
     "output_type": "stream",
     "text": [
      "C:\\Users\\hi\\AppData\\Local\\Temp\\ipykernel_27780\\140162797.py:1: UserWarning: pandas only supports SQLAlchemy connectable (engine/connection) or database string URI or sqlite3 DBAPI2 connection. Other DBAPI2 objects are not tested. Please consider using SQLAlchemy.\n",
      "  df1=pd.read_sql(customers,conn)\n"
     ]
    }
   ],
   "source": [
    "df1=pd.read_sql(customers,conn)\n",
    "print(df1)"
   ]
  },
  {
   "cell_type": "code",
   "execution_count": 11,
   "id": "f7ca2b6c-5540-4659-82cb-db0cd96489da",
   "metadata": {},
   "outputs": [],
   "source": [
    "orderitem = \"SELECT * FROM order_items;\""
   ]
  },
  {
   "cell_type": "code",
   "execution_count": 12,
   "id": "03f0a00a-8cbf-4cf7-a2a5-b81628aca888",
   "metadata": {},
   "outputs": [
    {
     "name": "stdout",
     "output_type": "stream",
     "text": [
      "      order_id  item_id  product_id  quantity  list_price  discount  \\\n",
      "0            1        1          20         1      599.99      0.20   \n",
      "1            1        2           8         2     1799.99      0.07   \n",
      "2            1        3          10         2     1549.00      0.05   \n",
      "3            1        4          16         2      599.99      0.05   \n",
      "4            1        5           4         1     2899.99      0.20   \n",
      "...        ...      ...         ...       ...         ...       ...   \n",
      "4717      1614        2         159         2     2299.99      0.07   \n",
      "4718      1614        3         213         2      269.99      0.20   \n",
      "4719      1615        1         197         2     2299.99      0.20   \n",
      "4720      1615        2         214         1      899.99      0.07   \n",
      "4721      1615        3         182         1     2499.99      0.20   \n",
      "\n",
      "      Total_Price                                    product_name  Categor_Id  \\\n",
      "0          599.79  Electra Townie Original 7D EQ - Women's - 2016           3   \n",
      "1         3599.91           Trek Remedy 29 Carbon Frameset - 2016           6   \n",
      "2         3097.95                          Surly Straggler - 2016           4   \n",
      "3         1199.93            Electra Townie Original 7D EQ - 2016           3   \n",
      "4         2899.79                        Trek Fuel EX 8 29 - 2016           6   \n",
      "...           ...                                             ...         ...   \n",
      "4717      4599.91                        Trek Emonda ALR 6 - 2018           7   \n",
      "4718       539.78              Electra Cruiser 1 - 2016/2017/2018           3   \n",
      "4719      4599.78                      Trek Verve+ Lowstep - 2018           5   \n",
      "4720       899.92                   Electra Tiger Shark 3i - 2018           3   \n",
      "4721      2499.79                    Trek Domane SL 5 Disc - 2018           7   \n",
      "\n",
      "            Category_Name  \n",
      "0       Cruisers Bicycles  \n",
      "1          Mountain Bikes  \n",
      "2     Cyclocross Bicycles  \n",
      "3       Cruisers Bicycles  \n",
      "4          Mountain Bikes  \n",
      "...                   ...  \n",
      "4717           Road Bikes  \n",
      "4718    Cruisers Bicycles  \n",
      "4719       Electric Bikes  \n",
      "4720    Cruisers Bicycles  \n",
      "4721           Road Bikes  \n",
      "\n",
      "[4722 rows x 10 columns]\n"
     ]
    },
    {
     "name": "stderr",
     "output_type": "stream",
     "text": [
      "C:\\Users\\hi\\AppData\\Local\\Temp\\ipykernel_27780\\1232134372.py:1: UserWarning: pandas only supports SQLAlchemy connectable (engine/connection) or database string URI or sqlite3 DBAPI2 connection. Other DBAPI2 objects are not tested. Please consider using SQLAlchemy.\n",
      "  df2=pd.read_sql(orderitem,conn)\n"
     ]
    }
   ],
   "source": [
    "df2=pd.read_sql(orderitem,conn)\n",
    "print(df2)"
   ]
  },
  {
   "cell_type": "code",
   "execution_count": 13,
   "id": "363d65c8-c307-48a3-a560-460f7e7fa043",
   "metadata": {},
   "outputs": [
    {
     "data": {
      "text/html": [
       "<div>\n",
       "<style scoped>\n",
       "    .dataframe tbody tr th:only-of-type {\n",
       "        vertical-align: middle;\n",
       "    }\n",
       "\n",
       "    .dataframe tbody tr th {\n",
       "        vertical-align: top;\n",
       "    }\n",
       "\n",
       "    .dataframe thead th {\n",
       "        text-align: right;\n",
       "    }\n",
       "</style>\n",
       "<table border=\"1\" class=\"dataframe\">\n",
       "  <thead>\n",
       "    <tr style=\"text-align: right;\">\n",
       "      <th></th>\n",
       "      <th>order_id</th>\n",
       "      <th>customer_id</th>\n",
       "      <th>order_status</th>\n",
       "      <th>store_id</th>\n",
       "      <th>staff_id</th>\n",
       "    </tr>\n",
       "  </thead>\n",
       "  <tbody>\n",
       "    <tr>\n",
       "      <th>count</th>\n",
       "      <td>1615.000000</td>\n",
       "      <td>1615.000000</td>\n",
       "      <td>1615.000000</td>\n",
       "      <td>1615.000000</td>\n",
       "      <td>1615.000000</td>\n",
       "    </tr>\n",
       "    <tr>\n",
       "      <th>mean</th>\n",
       "      <td>808.000000</td>\n",
       "      <td>654.171517</td>\n",
       "      <td>3.778947</td>\n",
       "      <td>1.892260</td>\n",
       "      <td>5.855108</td>\n",
       "    </tr>\n",
       "    <tr>\n",
       "      <th>std</th>\n",
       "      <td>466.354658</td>\n",
       "      <td>443.229967</td>\n",
       "      <td>0.693430</td>\n",
       "      <td>0.558395</td>\n",
       "      <td>1.913899</td>\n",
       "    </tr>\n",
       "    <tr>\n",
       "      <th>min</th>\n",
       "      <td>1.000000</td>\n",
       "      <td>1.000000</td>\n",
       "      <td>1.000000</td>\n",
       "      <td>1.000000</td>\n",
       "      <td>2.000000</td>\n",
       "    </tr>\n",
       "    <tr>\n",
       "      <th>25%</th>\n",
       "      <td>404.500000</td>\n",
       "      <td>237.000000</td>\n",
       "      <td>4.000000</td>\n",
       "      <td>2.000000</td>\n",
       "      <td>6.000000</td>\n",
       "    </tr>\n",
       "    <tr>\n",
       "      <th>50%</th>\n",
       "      <td>808.000000</td>\n",
       "      <td>638.000000</td>\n",
       "      <td>4.000000</td>\n",
       "      <td>2.000000</td>\n",
       "      <td>6.000000</td>\n",
       "    </tr>\n",
       "    <tr>\n",
       "      <th>75%</th>\n",
       "      <td>1211.500000</td>\n",
       "      <td>1041.500000</td>\n",
       "      <td>4.000000</td>\n",
       "      <td>2.000000</td>\n",
       "      <td>7.000000</td>\n",
       "    </tr>\n",
       "    <tr>\n",
       "      <th>max</th>\n",
       "      <td>1615.000000</td>\n",
       "      <td>1445.000000</td>\n",
       "      <td>4.000000</td>\n",
       "      <td>3.000000</td>\n",
       "      <td>9.000000</td>\n",
       "    </tr>\n",
       "  </tbody>\n",
       "</table>\n",
       "</div>"
      ],
      "text/plain": [
       "          order_id  customer_id  order_status     store_id     staff_id\n",
       "count  1615.000000  1615.000000   1615.000000  1615.000000  1615.000000\n",
       "mean    808.000000   654.171517      3.778947     1.892260     5.855108\n",
       "std     466.354658   443.229967      0.693430     0.558395     1.913899\n",
       "min       1.000000     1.000000      1.000000     1.000000     2.000000\n",
       "25%     404.500000   237.000000      4.000000     2.000000     6.000000\n",
       "50%     808.000000   638.000000      4.000000     2.000000     6.000000\n",
       "75%    1211.500000  1041.500000      4.000000     2.000000     7.000000\n",
       "max    1615.000000  1445.000000      4.000000     3.000000     9.000000"
      ]
     },
     "execution_count": 13,
     "metadata": {},
     "output_type": "execute_result"
    }
   ],
   "source": [
    "df.describe()"
   ]
  },
  {
   "cell_type": "code",
   "execution_count": 14,
   "id": "1cdc161e-b4a0-4187-b6b3-77af79e92113",
   "metadata": {},
   "outputs": [
    {
     "data": {
      "text/html": [
       "<div>\n",
       "<style scoped>\n",
       "    .dataframe tbody tr th:only-of-type {\n",
       "        vertical-align: middle;\n",
       "    }\n",
       "\n",
       "    .dataframe tbody tr th {\n",
       "        vertical-align: top;\n",
       "    }\n",
       "\n",
       "    .dataframe thead th {\n",
       "        text-align: right;\n",
       "    }\n",
       "</style>\n",
       "<table border=\"1\" class=\"dataframe\">\n",
       "  <thead>\n",
       "    <tr style=\"text-align: right;\">\n",
       "      <th></th>\n",
       "      <th>customer_id</th>\n",
       "      <th>zipcode</th>\n",
       "    </tr>\n",
       "  </thead>\n",
       "  <tbody>\n",
       "    <tr>\n",
       "      <th>count</th>\n",
       "      <td>1445.000000</td>\n",
       "      <td>1445.000000</td>\n",
       "    </tr>\n",
       "    <tr>\n",
       "      <th>mean</th>\n",
       "      <td>723.000000</td>\n",
       "      <td>34200.015225</td>\n",
       "    </tr>\n",
       "    <tr>\n",
       "      <th>std</th>\n",
       "      <td>417.279882</td>\n",
       "      <td>34733.933551</td>\n",
       "    </tr>\n",
       "    <tr>\n",
       "      <th>min</th>\n",
       "      <td>1.000000</td>\n",
       "      <td>10002.000000</td>\n",
       "    </tr>\n",
       "    <tr>\n",
       "      <th>25%</th>\n",
       "      <td>362.000000</td>\n",
       "      <td>11419.000000</td>\n",
       "    </tr>\n",
       "    <tr>\n",
       "      <th>50%</th>\n",
       "      <td>723.000000</td>\n",
       "      <td>11967.000000</td>\n",
       "    </tr>\n",
       "    <tr>\n",
       "      <th>75%</th>\n",
       "      <td>1084.000000</td>\n",
       "      <td>76110.000000</td>\n",
       "    </tr>\n",
       "    <tr>\n",
       "      <th>max</th>\n",
       "      <td>1445.000000</td>\n",
       "      <td>95993.000000</td>\n",
       "    </tr>\n",
       "  </tbody>\n",
       "</table>\n",
       "</div>"
      ],
      "text/plain": [
       "       customer_id       zipcode\n",
       "count  1445.000000   1445.000000\n",
       "mean    723.000000  34200.015225\n",
       "std     417.279882  34733.933551\n",
       "min       1.000000  10002.000000\n",
       "25%     362.000000  11419.000000\n",
       "50%     723.000000  11967.000000\n",
       "75%    1084.000000  76110.000000\n",
       "max    1445.000000  95993.000000"
      ]
     },
     "execution_count": 14,
     "metadata": {},
     "output_type": "execute_result"
    }
   ],
   "source": [
    "df1.describe()"
   ]
  },
  {
   "cell_type": "code",
   "execution_count": 15,
   "id": "88a024a5-9cb5-4ae8-92f6-0bd48c28a520",
   "metadata": {},
   "outputs": [
    {
     "data": {
      "text/html": [
       "<div>\n",
       "<style scoped>\n",
       "    .dataframe tbody tr th:only-of-type {\n",
       "        vertical-align: middle;\n",
       "    }\n",
       "\n",
       "    .dataframe tbody tr th {\n",
       "        vertical-align: top;\n",
       "    }\n",
       "\n",
       "    .dataframe thead th {\n",
       "        text-align: right;\n",
       "    }\n",
       "</style>\n",
       "<table border=\"1\" class=\"dataframe\">\n",
       "  <thead>\n",
       "    <tr style=\"text-align: right;\">\n",
       "      <th></th>\n",
       "      <th>order_id</th>\n",
       "      <th>item_id</th>\n",
       "      <th>product_id</th>\n",
       "      <th>quantity</th>\n",
       "      <th>list_price</th>\n",
       "      <th>discount</th>\n",
       "      <th>Total_Price</th>\n",
       "      <th>Categor_Id</th>\n",
       "    </tr>\n",
       "  </thead>\n",
       "  <tbody>\n",
       "    <tr>\n",
       "      <th>count</th>\n",
       "      <td>4722.000000</td>\n",
       "      <td>4722.000000</td>\n",
       "      <td>4722.000000</td>\n",
       "      <td>4722.000000</td>\n",
       "      <td>4722.000000</td>\n",
       "      <td>4722.000000</td>\n",
       "      <td>4722.000000</td>\n",
       "      <td>4722.000000</td>\n",
       "    </tr>\n",
       "    <tr>\n",
       "      <th>mean</th>\n",
       "      <td>821.265354</td>\n",
       "      <td>2.262601</td>\n",
       "      <td>59.366158</td>\n",
       "      <td>1.498941</td>\n",
       "      <td>1212.707872</td>\n",
       "      <td>0.105373</td>\n",
       "      <td>1816.707181</td>\n",
       "      <td>3.767471</td>\n",
       "    </tr>\n",
       "    <tr>\n",
       "      <th>std</th>\n",
       "      <td>465.152168</td>\n",
       "      <td>1.199129</td>\n",
       "      <td>67.312708</td>\n",
       "      <td>0.500052</td>\n",
       "      <td>1352.798257</td>\n",
       "      <td>0.058119</td>\n",
       "      <td>2228.162327</td>\n",
       "      <td>1.985901</td>\n",
       "    </tr>\n",
       "    <tr>\n",
       "      <th>min</th>\n",
       "      <td>1.000000</td>\n",
       "      <td>1.000000</td>\n",
       "      <td>2.000000</td>\n",
       "      <td>1.000000</td>\n",
       "      <td>89.990000</td>\n",
       "      <td>0.050000</td>\n",
       "      <td>89.790000</td>\n",
       "      <td>1.000000</td>\n",
       "    </tr>\n",
       "    <tr>\n",
       "      <th>25%</th>\n",
       "      <td>423.250000</td>\n",
       "      <td>1.000000</td>\n",
       "      <td>14.000000</td>\n",
       "      <td>1.000000</td>\n",
       "      <td>429.000000</td>\n",
       "      <td>0.050000</td>\n",
       "      <td>539.780000</td>\n",
       "      <td>2.000000</td>\n",
       "    </tr>\n",
       "    <tr>\n",
       "      <th>50%</th>\n",
       "      <td>828.500000</td>\n",
       "      <td>2.000000</td>\n",
       "      <td>28.000000</td>\n",
       "      <td>1.000000</td>\n",
       "      <td>599.990000</td>\n",
       "      <td>0.085000</td>\n",
       "      <td>939.910000</td>\n",
       "      <td>3.000000</td>\n",
       "    </tr>\n",
       "    <tr>\n",
       "      <th>75%</th>\n",
       "      <td>1226.000000</td>\n",
       "      <td>3.000000</td>\n",
       "      <td>84.000000</td>\n",
       "      <td>2.000000</td>\n",
       "      <td>1549.000000</td>\n",
       "      <td>0.200000</td>\n",
       "      <td>1999.910000</td>\n",
       "      <td>6.000000</td>\n",
       "    </tr>\n",
       "    <tr>\n",
       "      <th>max</th>\n",
       "      <td>1615.000000</td>\n",
       "      <td>5.000000</td>\n",
       "      <td>315.000000</td>\n",
       "      <td>2.000000</td>\n",
       "      <td>11999.990000</td>\n",
       "      <td>0.200000</td>\n",
       "      <td>23999.880000</td>\n",
       "      <td>7.000000</td>\n",
       "    </tr>\n",
       "  </tbody>\n",
       "</table>\n",
       "</div>"
      ],
      "text/plain": [
       "          order_id      item_id   product_id     quantity    list_price  \\\n",
       "count  4722.000000  4722.000000  4722.000000  4722.000000   4722.000000   \n",
       "mean    821.265354     2.262601    59.366158     1.498941   1212.707872   \n",
       "std     465.152168     1.199129    67.312708     0.500052   1352.798257   \n",
       "min       1.000000     1.000000     2.000000     1.000000     89.990000   \n",
       "25%     423.250000     1.000000    14.000000     1.000000    429.000000   \n",
       "50%     828.500000     2.000000    28.000000     1.000000    599.990000   \n",
       "75%    1226.000000     3.000000    84.000000     2.000000   1549.000000   \n",
       "max    1615.000000     5.000000   315.000000     2.000000  11999.990000   \n",
       "\n",
       "          discount   Total_Price   Categor_Id  \n",
       "count  4722.000000   4722.000000  4722.000000  \n",
       "mean      0.105373   1816.707181     3.767471  \n",
       "std       0.058119   2228.162327     1.985901  \n",
       "min       0.050000     89.790000     1.000000  \n",
       "25%       0.050000    539.780000     2.000000  \n",
       "50%       0.085000    939.910000     3.000000  \n",
       "75%       0.200000   1999.910000     6.000000  \n",
       "max       0.200000  23999.880000     7.000000  "
      ]
     },
     "execution_count": 15,
     "metadata": {},
     "output_type": "execute_result"
    }
   ],
   "source": [
    "df2.describe()"
   ]
  },
  {
   "cell_type": "code",
   "execution_count": 16,
   "id": "3b59620a-1e04-4709-93d0-f6fd1a6b43a4",
   "metadata": {},
   "outputs": [
    {
     "name": "stdout",
     "output_type": "stream",
     "text": [
      "<class 'pandas.core.frame.DataFrame'>\n",
      "RangeIndex: 1615 entries, 0 to 1614\n",
      "Data columns (total 8 columns):\n",
      " #   Column         Non-Null Count  Dtype \n",
      "---  ------         --------------  ----- \n",
      " 0   order_id       1615 non-null   int64 \n",
      " 1   customer_id    1615 non-null   int64 \n",
      " 2   order_status   1615 non-null   int64 \n",
      " 3   order_date     1615 non-null   object\n",
      " 4   required_date  1615 non-null   object\n",
      " 5   shipped_date   1445 non-null   object\n",
      " 6   store_id       1615 non-null   int64 \n",
      " 7   staff_id       1615 non-null   int64 \n",
      "dtypes: int64(5), object(3)\n",
      "memory usage: 101.1+ KB\n"
     ]
    }
   ],
   "source": [
    "df.info()"
   ]
  },
  {
   "cell_type": "code",
   "execution_count": 17,
   "id": "216d7fd2-05b1-4238-b0fe-345aaab907f4",
   "metadata": {},
   "outputs": [
    {
     "name": "stdout",
     "output_type": "stream",
     "text": [
      "<class 'pandas.core.frame.DataFrame'>\n",
      "RangeIndex: 1445 entries, 0 to 1444\n",
      "Data columns (total 9 columns):\n",
      " #   Column       Non-Null Count  Dtype \n",
      "---  ------       --------------  ----- \n",
      " 0   customer_id  1445 non-null   int64 \n",
      " 1   first_name   1445 non-null   object\n",
      " 2   last_name    1445 non-null   object\n",
      " 3   phone        1445 non-null   object\n",
      " 4   email        1445 non-null   object\n",
      " 5   street       1445 non-null   object\n",
      " 6   city         1445 non-null   object\n",
      " 7   state        1445 non-null   object\n",
      " 8   zipcode      1445 non-null   int64 \n",
      "dtypes: int64(2), object(7)\n",
      "memory usage: 101.7+ KB\n"
     ]
    }
   ],
   "source": [
    "df1.info()"
   ]
  },
  {
   "cell_type": "code",
   "execution_count": 18,
   "id": "0a84ea0e-1553-4434-979c-a82896f5bf92",
   "metadata": {},
   "outputs": [
    {
     "name": "stdout",
     "output_type": "stream",
     "text": [
      "<class 'pandas.core.frame.DataFrame'>\n",
      "RangeIndex: 4722 entries, 0 to 4721\n",
      "Data columns (total 10 columns):\n",
      " #   Column         Non-Null Count  Dtype  \n",
      "---  ------         --------------  -----  \n",
      " 0   order_id       4722 non-null   int64  \n",
      " 1   item_id        4722 non-null   int64  \n",
      " 2   product_id     4722 non-null   int64  \n",
      " 3   quantity       4722 non-null   int64  \n",
      " 4   list_price     4722 non-null   float64\n",
      " 5   discount       4722 non-null   float64\n",
      " 6   Total_Price    4722 non-null   float64\n",
      " 7   product_name   4722 non-null   object \n",
      " 8   Categor_Id     4722 non-null   int64  \n",
      " 9   Category_Name  4722 non-null   object \n",
      "dtypes: float64(3), int64(5), object(2)\n",
      "memory usage: 369.0+ KB\n"
     ]
    }
   ],
   "source": [
    "df2.info()"
   ]
  },
  {
   "cell_type": "code",
   "execution_count": 19,
   "id": "607b16ee-6389-48c0-a678-19e14644b77c",
   "metadata": {},
   "outputs": [
    {
     "data": {
      "text/plain": [
       "order_id  customer_id  order_status  order_date  required_date  shipped_date  store_id  staff_id\n",
       "1         259          4             1/1/2016    1/3/2016       1/3/2016      1         2           1\n",
       "2         1212         4             1/1/2016    1/4/2016       1/3/2016      2         6           1\n",
       "3         523          4             1/2/2016    1/5/2016       1/3/2016      2         7           1\n",
       "4         175          4             1/3/2016    1/4/2016       1/5/2016      1         3           1\n",
       "5         1324         4             1/3/2016    1/6/2016       1/6/2016      2         6           1\n",
       "                                                                                                   ..\n",
       "1474      816          4             3/30/2018   4/1/2018       4/2/2018      1         3           1\n",
       "1475      112          4             3/30/2018   4/1/2018       3/31/2018     2         6           1\n",
       "1476      35           4             3/31/2018   4/1/2018       4/1/2018      2         7           1\n",
       "1477      180          4             3/31/2018   4/3/2018       4/1/2018      2         6           1\n",
       "1478      392          4             3/31/2018   4/2/2018       4/2/2018      2         6           1\n",
       "Name: count, Length: 1445, dtype: int64"
      ]
     },
     "execution_count": 19,
     "metadata": {},
     "output_type": "execute_result"
    }
   ],
   "source": [
    "df.value_counts()"
   ]
  },
  {
   "cell_type": "code",
   "execution_count": 20,
   "id": "691ac76a-163c-4dae-9919-fa3aff464761",
   "metadata": {},
   "outputs": [
    {
     "data": {
      "text/plain": [
       "customer_id  first_name  last_name  phone           email                    street                  city           state  zipcode\n",
       "1            Debra       Burks      NA              debra.burks@yahoo.com    9273 Thorne Ave.        Orchard Park   NY     14127      1\n",
       "2            Kasha       Todd       NA              kasha.todd@yahoo.com     910 Vine Street         Campbell       CA     95008      1\n",
       "3            Tameka      Fisher     NA              tameka.fisher@aol.com    769C Honey Creek St.    Redondo Beach  CA     90278      1\n",
       "4            Daryl       Spence     NA              daryl.spence@aol.com     988 Pearl Lane          Uniondale      NY     11553      1\n",
       "5            Charolette  Rice       (916) 381-6003  charolette.rice@msn.com  107 River Dr.           Sacramento     CA     95820      1\n",
       "                                                                                                                                     ..\n",
       "1441         Jamaal      Morrison   NA              jamaal.morrison@msn.com  796 SE. Nut Swamp St.   Staten Island  NY     10301      1\n",
       "1442         Cassie      Cline      NA              cassie.cline@gmail.com   947 Lafayette Drive     Brooklyn       NY     11201      1\n",
       "1443         Lezlie      Lamb       NA              lezlie.lamb@gmail.com    401 Brandywine Street   Central Islip  NY     11722      1\n",
       "1444         Ivette      Estes      NA              ivette.estes@gmail.com   88 N. Canterbury Ave.   Canandaigua    NY     14424      1\n",
       "1445         Ester       Acevedo    NA              ester.acevedo@gmail.com  671 Miles Court         San Lorenzo    CA     94580      1\n",
       "Name: count, Length: 1445, dtype: int64"
      ]
     },
     "execution_count": 20,
     "metadata": {},
     "output_type": "execute_result"
    }
   ],
   "source": [
    "df1.value_counts()"
   ]
  },
  {
   "cell_type": "code",
   "execution_count": 21,
   "id": "1b47d8a3-7f80-48c6-a507-9ab56795fc47",
   "metadata": {},
   "outputs": [
    {
     "data": {
      "text/plain": [
       "order_id  item_id  product_id  quantity  list_price  discount  Total_Price  product_name                                    Categor_Id  Category_Name      \n",
       "1         1        20          1         599.99      0.20      599.79       Electra Townie Original 7D EQ - Women's - 2016  3           Cruisers Bicycles      1\n",
       "          2        8           2         1799.99     0.07      3599.91      Trek Remedy 29 Carbon Frameset - 2016           6           Mountain Bikes         1\n",
       "          3        10          2         1549.00     0.05      3097.95      Surly Straggler - 2016                          4           Cyclocross Bicycles    1\n",
       "          4        16          2         599.99      0.05      1199.93      Electra Townie Original 7D EQ - 2016            3           Cruisers Bicycles      1\n",
       "          5        4           1         2899.99     0.20      2899.79      Trek Fuel EX 8 29 - 2016                        6           Mountain Bikes         1\n",
       "                                                                                                                                                              ..\n",
       "1614      2        159         2         2299.99     0.07      4599.91      Trek Emonda ALR 6 - 2018                        7           Road Bikes             1\n",
       "          3        213         2         269.99      0.20      539.78       Electra Cruiser 1 - 2016/2017/2018              3           Cruisers Bicycles      1\n",
       "1615      1        197         2         2299.99     0.20      4599.78      Trek Verve+ Lowstep - 2018                      5           Electric Bikes         1\n",
       "          2        214         1         899.99      0.07      899.92       Electra Tiger Shark 3i - 2018                   3           Cruisers Bicycles      1\n",
       "          3        182         1         2499.99     0.20      2499.79      Trek Domane SL 5 Disc - 2018                    7           Road Bikes             1\n",
       "Name: count, Length: 4722, dtype: int64"
      ]
     },
     "execution_count": 21,
     "metadata": {},
     "output_type": "execute_result"
    }
   ],
   "source": [
    "df2.value_counts()"
   ]
  },
  {
   "cell_type": "code",
   "execution_count": 22,
   "id": "743aa6fd-0e90-454b-8fee-f6ad296849df",
   "metadata": {},
   "outputs": [],
   "source": [
    "import matplotlib.pyplot as plt"
   ]
  },
  {
   "cell_type": "code",
   "execution_count": 23,
   "id": "26d41628-eeaf-4f24-a7a3-d174ba61ea18",
   "metadata": {},
   "outputs": [],
   "source": [
    "import seaborn as sns"
   ]
  },
  {
   "cell_type": "code",
   "execution_count": 24,
   "id": "7e8d5a27-f8b5-42dc-afdb-72ec7366143b",
   "metadata": {},
   "outputs": [
    {
     "data": {
      "image/png": "[encoded data removed]",
      "text/plain": [
       "<Figure size 640x480 with 1 Axes>"
      ]
     },
     "metadata": {},
     "output_type": "display_data"
    }
   ],
   "source": [
    "sns.countplot(data = df2, y = 'Category_Name')\n",
    "plt.title(\"Count of Orders For Each Category\")\n",
    "plt.show()"
   ]
  },
  {
   "cell_type": "code",
   "execution_count": 25,
   "id": "6366cb26-eb50-4dfd-be06-ff20bda8c037",
   "metadata": {},
   "outputs": [],
   "source": [
    "df4 = df.groupby('customer_id')['order_date'].count()"
   ]
  },
  {
   "cell_type": "code",
   "execution_count": 26,
   "id": "5aa756ed-4aa1-4a05-99be-a832f0cd1cf1",
   "metadata": {},
   "outputs": [
    {
     "data": {
      "text/plain": [
       "customer_id\n",
       "1       3\n",
       "2       3\n",
       "3       3\n",
       "4       3\n",
       "5       3\n",
       "       ..\n",
       "1441    1\n",
       "1442    1\n",
       "1443    1\n",
       "1444    1\n",
       "1445    1\n",
       "Name: order_date, Length: 1445, dtype: int64"
      ]
     },
     "execution_count": 26,
     "metadata": {},
     "output_type": "execute_result"
    }
   ],
   "source": [
    "df4"
   ]
  },
  {
   "cell_type": "code",
   "execution_count": 27,
   "id": "bbbdf424-813a-467b-b195-6c9f5da08bac",
   "metadata": {},
   "outputs": [],
   "source": [
    "df4=df4.reset_index()"
   ]
  },
  {
   "cell_type": "code",
   "execution_count": 23,
   "id": "a530bb4e-defb-4b53-b4a2-a32781e1b8d8",
   "metadata": {},
   "outputs": [
    {
     "data": {
      "text/html": [
       "<div>\n",
       "<style scoped>\n",
       "    .dataframe tbody tr th:only-of-type {\n",
       "        vertical-align: middle;\n",
       "    }\n",
       "\n",
       "    .dataframe tbody tr th {\n",
       "        vertical-align: top;\n",
       "    }\n",
       "\n",
       "    .dataframe thead th {\n",
       "        text-align: right;\n",
       "    }\n",
       "</style>\n",
       "<table border=\"1\" class=\"dataframe\">\n",
       "  <thead>\n",
       "    <tr style=\"text-align: right;\">\n",
       "      <th></th>\n",
       "      <th>customer_id</th>\n",
       "      <th>order_date</th>\n",
       "    </tr>\n",
       "  </thead>\n",
       "  <tbody>\n",
       "    <tr>\n",
       "      <th>0</th>\n",
       "      <td>1</td>\n",
       "      <td>3</td>\n",
       "    </tr>\n",
       "    <tr>\n",
       "      <th>1</th>\n",
       "      <td>2</td>\n",
       "      <td>3</td>\n",
       "    </tr>\n",
       "    <tr>\n",
       "      <th>2</th>\n",
       "      <td>3</td>\n",
       "      <td>3</td>\n",
       "    </tr>\n",
       "    <tr>\n",
       "      <th>3</th>\n",
       "      <td>4</td>\n",
       "      <td>3</td>\n",
       "    </tr>\n",
       "    <tr>\n",
       "      <th>4</th>\n",
       "      <td>5</td>\n",
       "      <td>3</td>\n",
       "    </tr>\n",
       "    <tr>\n",
       "      <th>...</th>\n",
       "      <td>...</td>\n",
       "      <td>...</td>\n",
       "    </tr>\n",
       "    <tr>\n",
       "      <th>1440</th>\n",
       "      <td>1441</td>\n",
       "      <td>1</td>\n",
       "    </tr>\n",
       "    <tr>\n",
       "      <th>1441</th>\n",
       "      <td>1442</td>\n",
       "      <td>1</td>\n",
       "    </tr>\n",
       "    <tr>\n",
       "      <th>1442</th>\n",
       "      <td>1443</td>\n",
       "      <td>1</td>\n",
       "    </tr>\n",
       "    <tr>\n",
       "      <th>1443</th>\n",
       "      <td>1444</td>\n",
       "      <td>1</td>\n",
       "    </tr>\n",
       "    <tr>\n",
       "      <th>1444</th>\n",
       "      <td>1445</td>\n",
       "      <td>1</td>\n",
       "    </tr>\n",
       "  </tbody>\n",
       "</table>\n",
       "<p>1445 rows × 2 columns</p>\n",
       "</div>"
      ],
      "text/plain": [
       "      customer_id  order_date\n",
       "0               1           3\n",
       "1               2           3\n",
       "2               3           3\n",
       "3               4           3\n",
       "4               5           3\n",
       "...           ...         ...\n",
       "1440         1441           1\n",
       "1441         1442           1\n",
       "1442         1443           1\n",
       "1443         1444           1\n",
       "1444         1445           1\n",
       "\n",
       "[1445 rows x 2 columns]"
      ]
     },
     "execution_count": 23,
     "metadata": {},
     "output_type": "execute_result"
    }
   ],
   "source": [
    "df4"
   ]
  },
  {
   "cell_type": "code",
   "execution_count": 28,
   "id": "89023727-9527-4d70-9c25-827f186f07a5",
   "metadata": {},
   "outputs": [],
   "source": [
    "df4 = df4.groupby('order_date')['customer_id'].count()"
   ]
  },
  {
   "cell_type": "code",
   "execution_count": 29,
   "id": "d7865fa3-d4b0-4d33-9548-88f127264a22",
   "metadata": {},
   "outputs": [
    {
     "data": {
      "text/plain": [
       "order_date\n",
       "1    1314\n",
       "2      92\n",
       "3      39\n",
       "Name: customer_id, dtype: int64"
      ]
     },
     "execution_count": 29,
     "metadata": {},
     "output_type": "execute_result"
    }
   ],
   "source": [
    "df4"
   ]
  },
  {
   "cell_type": "code",
   "execution_count": 30,
   "id": "e0a5cae4-4f64-4bd3-8bed-400a1fcd08fa",
   "metadata": {},
   "outputs": [],
   "source": [
    "df4 = df4.reset_index()"
   ]
  },
  {
   "cell_type": "code",
   "execution_count": 31,
   "id": "7b0b9a6f-0570-48bb-873b-220ced4744ba",
   "metadata": {},
   "outputs": [
    {
     "data": {
      "text/html": [
       "<div>\n",
       "<style scoped>\n",
       "    .dataframe tbody tr th:only-of-type {\n",
       "        vertical-align: middle;\n",
       "    }\n",
       "\n",
       "    .dataframe tbody tr th {\n",
       "        vertical-align: top;\n",
       "    }\n",
       "\n",
       "    .dataframe thead th {\n",
       "        text-align: right;\n",
       "    }\n",
       "</style>\n",
       "<table border=\"1\" class=\"dataframe\">\n",
       "  <thead>\n",
       "    <tr style=\"text-align: right;\">\n",
       "      <th></th>\n",
       "      <th>order_date</th>\n",
       "      <th>customer_id</th>\n",
       "    </tr>\n",
       "  </thead>\n",
       "  <tbody>\n",
       "    <tr>\n",
       "      <th>0</th>\n",
       "      <td>1</td>\n",
       "      <td>1314</td>\n",
       "    </tr>\n",
       "    <tr>\n",
       "      <th>1</th>\n",
       "      <td>2</td>\n",
       "      <td>92</td>\n",
       "    </tr>\n",
       "    <tr>\n",
       "      <th>2</th>\n",
       "      <td>3</td>\n",
       "      <td>39</td>\n",
       "    </tr>\n",
       "  </tbody>\n",
       "</table>\n",
       "</div>"
      ],
      "text/plain": [
       "   order_date  customer_id\n",
       "0           1         1314\n",
       "1           2           92\n",
       "2           3           39"
      ]
     },
     "execution_count": 31,
     "metadata": {},
     "output_type": "execute_result"
    }
   ],
   "source": [
    "df4"
   ]
  },
  {
   "cell_type": "code",
   "execution_count": 32,
   "id": "382a8eb7-543e-4918-bb26-49ee14caedd5",
   "metadata": {},
   "outputs": [],
   "source": [
    "df5 = df4.rename(columns={'customer_id':'recency'})"
   ]
  },
  {
   "cell_type": "code",
   "execution_count": 33,
   "id": "d6fd4ea7-6795-4d30-8180-4d4fff1342d9",
   "metadata": {},
   "outputs": [
    {
     "data": {
      "text/html": [
       "<div>\n",
       "<style scoped>\n",
       "    .dataframe tbody tr th:only-of-type {\n",
       "        vertical-align: middle;\n",
       "    }\n",
       "\n",
       "    .dataframe tbody tr th {\n",
       "        vertical-align: top;\n",
       "    }\n",
       "\n",
       "    .dataframe thead th {\n",
       "        text-align: right;\n",
       "    }\n",
       "</style>\n",
       "<table border=\"1\" class=\"dataframe\">\n",
       "  <thead>\n",
       "    <tr style=\"text-align: right;\">\n",
       "      <th></th>\n",
       "      <th>order_date</th>\n",
       "      <th>recency</th>\n",
       "    </tr>\n",
       "  </thead>\n",
       "  <tbody>\n",
       "    <tr>\n",
       "      <th>0</th>\n",
       "      <td>1</td>\n",
       "      <td>1314</td>\n",
       "    </tr>\n",
       "    <tr>\n",
       "      <th>1</th>\n",
       "      <td>2</td>\n",
       "      <td>92</td>\n",
       "    </tr>\n",
       "    <tr>\n",
       "      <th>2</th>\n",
       "      <td>3</td>\n",
       "      <td>39</td>\n",
       "    </tr>\n",
       "  </tbody>\n",
       "</table>\n",
       "</div>"
      ],
      "text/plain": [
       "   order_date  recency\n",
       "0           1     1314\n",
       "1           2       92\n",
       "2           3       39"
      ]
     },
     "execution_count": 33,
     "metadata": {},
     "output_type": "execute_result"
    }
   ],
   "source": [
    "df5"
   ]
  },
  {
   "cell_type": "code",
   "execution_count": 34,
   "id": "817a9511-3f29-4f03-8535-81861eb787d7",
   "metadata": {},
   "outputs": [],
   "source": [
    "df5 = df5.rename(columns={'order_date':'customer_id'})"
   ]
  },
  {
   "cell_type": "code",
   "execution_count": 35,
   "id": "b64354d0-f7f1-4810-a0b3-c46a116e038a",
   "metadata": {},
   "outputs": [
    {
     "data": {
      "text/html": [
       "<div>\n",
       "<style scoped>\n",
       "    .dataframe tbody tr th:only-of-type {\n",
       "        vertical-align: middle;\n",
       "    }\n",
       "\n",
       "    .dataframe tbody tr th {\n",
       "        vertical-align: top;\n",
       "    }\n",
       "\n",
       "    .dataframe thead th {\n",
       "        text-align: right;\n",
       "    }\n",
       "</style>\n",
       "<table border=\"1\" class=\"dataframe\">\n",
       "  <thead>\n",
       "    <tr style=\"text-align: right;\">\n",
       "      <th></th>\n",
       "      <th>customer_id</th>\n",
       "      <th>recency</th>\n",
       "    </tr>\n",
       "  </thead>\n",
       "  <tbody>\n",
       "    <tr>\n",
       "      <th>0</th>\n",
       "      <td>1</td>\n",
       "      <td>1314</td>\n",
       "    </tr>\n",
       "    <tr>\n",
       "      <th>1</th>\n",
       "      <td>2</td>\n",
       "      <td>92</td>\n",
       "    </tr>\n",
       "    <tr>\n",
       "      <th>2</th>\n",
       "      <td>3</td>\n",
       "      <td>39</td>\n",
       "    </tr>\n",
       "  </tbody>\n",
       "</table>\n",
       "</div>"
      ],
      "text/plain": [
       "   customer_id  recency\n",
       "0            1     1314\n",
       "1            2       92\n",
       "2            3       39"
      ]
     },
     "execution_count": 35,
     "metadata": {},
     "output_type": "execute_result"
    }
   ],
   "source": [
    "df5"
   ]
  },
  {
   "cell_type": "code",
   "execution_count": 36,
   "id": "82c0c35b-1430-4085-89b1-11d52a2ee880",
   "metadata": {},
   "outputs": [
    {
     "data": {
      "image/png": "[encoded data removed]",
      "text/plain": [
       "<Figure size 640x480 with 1 Axes>"
      ]
     },
     "metadata": {},
     "output_type": "display_data"
    }
   ],
   "source": [
    "plt.pie(df5['customer_id'],labels=df5['recency'])\n",
    "plt.title(\"Recency Based on Customer ID\")\n",
    "plt.show()"
   ]
  },
  {
   "cell_type": "code",
   "execution_count": 37,
   "id": "42c0aa15-5387-45d7-824b-4420e4c0907f",
   "metadata": {},
   "outputs": [],
   "source": [
    "df6 = df.groupby('customer_id')['order_id'].count()"
   ]
  },
  {
   "cell_type": "code",
   "execution_count": 38,
   "id": "c30eb891-0e30-4df9-8721-f8dff6e69f60",
   "metadata": {},
   "outputs": [
    {
     "data": {
      "text/plain": [
       "customer_id\n",
       "1       3\n",
       "2       3\n",
       "3       3\n",
       "4       3\n",
       "5       3\n",
       "       ..\n",
       "1441    1\n",
       "1442    1\n",
       "1443    1\n",
       "1444    1\n",
       "1445    1\n",
       "Name: order_id, Length: 1445, dtype: int64"
      ]
     },
     "execution_count": 38,
     "metadata": {},
     "output_type": "execute_result"
    }
   ],
   "source": [
    "df6"
   ]
  },
  {
   "cell_type": "code",
   "execution_count": 39,
   "id": "b91be5cf-1f90-451b-8c05-a7d6f209f310",
   "metadata": {},
   "outputs": [],
   "source": [
    "df7 = df6.reset_index()"
   ]
  },
  {
   "cell_type": "code",
   "execution_count": 40,
   "id": "cbe87a79-17f0-4a3c-a572-7ac78f01a61b",
   "metadata": {},
   "outputs": [
    {
     "data": {
      "text/html": [
       "<div>\n",
       "<style scoped>\n",
       "    .dataframe tbody tr th:only-of-type {\n",
       "        vertical-align: middle;\n",
       "    }\n",
       "\n",
       "    .dataframe tbody tr th {\n",
       "        vertical-align: top;\n",
       "    }\n",
       "\n",
       "    .dataframe thead th {\n",
       "        text-align: right;\n",
       "    }\n",
       "</style>\n",
       "<table border=\"1\" class=\"dataframe\">\n",
       "  <thead>\n",
       "    <tr style=\"text-align: right;\">\n",
       "      <th></th>\n",
       "      <th>customer_id</th>\n",
       "      <th>order_id</th>\n",
       "    </tr>\n",
       "  </thead>\n",
       "  <tbody>\n",
       "    <tr>\n",
       "      <th>0</th>\n",
       "      <td>1</td>\n",
       "      <td>3</td>\n",
       "    </tr>\n",
       "    <tr>\n",
       "      <th>1</th>\n",
       "      <td>2</td>\n",
       "      <td>3</td>\n",
       "    </tr>\n",
       "    <tr>\n",
       "      <th>2</th>\n",
       "      <td>3</td>\n",
       "      <td>3</td>\n",
       "    </tr>\n",
       "    <tr>\n",
       "      <th>3</th>\n",
       "      <td>4</td>\n",
       "      <td>3</td>\n",
       "    </tr>\n",
       "    <tr>\n",
       "      <th>4</th>\n",
       "      <td>5</td>\n",
       "      <td>3</td>\n",
       "    </tr>\n",
       "    <tr>\n",
       "      <th>...</th>\n",
       "      <td>...</td>\n",
       "      <td>...</td>\n",
       "    </tr>\n",
       "    <tr>\n",
       "      <th>1440</th>\n",
       "      <td>1441</td>\n",
       "      <td>1</td>\n",
       "    </tr>\n",
       "    <tr>\n",
       "      <th>1441</th>\n",
       "      <td>1442</td>\n",
       "      <td>1</td>\n",
       "    </tr>\n",
       "    <tr>\n",
       "      <th>1442</th>\n",
       "      <td>1443</td>\n",
       "      <td>1</td>\n",
       "    </tr>\n",
       "    <tr>\n",
       "      <th>1443</th>\n",
       "      <td>1444</td>\n",
       "      <td>1</td>\n",
       "    </tr>\n",
       "    <tr>\n",
       "      <th>1444</th>\n",
       "      <td>1445</td>\n",
       "      <td>1</td>\n",
       "    </tr>\n",
       "  </tbody>\n",
       "</table>\n",
       "<p>1445 rows × 2 columns</p>\n",
       "</div>"
      ],
      "text/plain": [
       "      customer_id  order_id\n",
       "0               1         3\n",
       "1               2         3\n",
       "2               3         3\n",
       "3               4         3\n",
       "4               5         3\n",
       "...           ...       ...\n",
       "1440         1441         1\n",
       "1441         1442         1\n",
       "1442         1443         1\n",
       "1443         1444         1\n",
       "1444         1445         1\n",
       "\n",
       "[1445 rows x 2 columns]"
      ]
     },
     "execution_count": 40,
     "metadata": {},
     "output_type": "execute_result"
    }
   ],
   "source": [
    "df7"
   ]
  },
  {
   "cell_type": "code",
   "execution_count": 41,
   "id": "96747fe4-279e-4906-a525-f614cb0def80",
   "metadata": {},
   "outputs": [],
   "source": [
    "df7 = df7.groupby('order_id')['customer_id'].count()"
   ]
  },
  {
   "cell_type": "code",
   "execution_count": 42,
   "id": "c3d60e40-8764-41d9-8793-444952f43234",
   "metadata": {},
   "outputs": [
    {
     "data": {
      "text/plain": [
       "order_id\n",
       "1    1314\n",
       "2      92\n",
       "3      39\n",
       "Name: customer_id, dtype: int64"
      ]
     },
     "execution_count": 42,
     "metadata": {},
     "output_type": "execute_result"
    }
   ],
   "source": [
    "df7"
   ]
  },
  {
   "cell_type": "code",
   "execution_count": 43,
   "id": "00dd720f-a57a-434b-9135-c230fcdd7018",
   "metadata": {},
   "outputs": [],
   "source": [
    "df7 = df7.reset_index()"
   ]
  },
  {
   "cell_type": "code",
   "execution_count": 44,
   "id": "22b6392c-8961-49a0-9ffd-d283c19860b1",
   "metadata": {},
   "outputs": [
    {
     "data": {
      "text/html": [
       "<div>\n",
       "<style scoped>\n",
       "    .dataframe tbody tr th:only-of-type {\n",
       "        vertical-align: middle;\n",
       "    }\n",
       "\n",
       "    .dataframe tbody tr th {\n",
       "        vertical-align: top;\n",
       "    }\n",
       "\n",
       "    .dataframe thead th {\n",
       "        text-align: right;\n",
       "    }\n",
       "</style>\n",
       "<table border=\"1\" class=\"dataframe\">\n",
       "  <thead>\n",
       "    <tr style=\"text-align: right;\">\n",
       "      <th></th>\n",
       "      <th>order_id</th>\n",
       "      <th>customer_id</th>\n",
       "    </tr>\n",
       "  </thead>\n",
       "  <tbody>\n",
       "    <tr>\n",
       "      <th>0</th>\n",
       "      <td>1</td>\n",
       "      <td>1314</td>\n",
       "    </tr>\n",
       "    <tr>\n",
       "      <th>1</th>\n",
       "      <td>2</td>\n",
       "      <td>92</td>\n",
       "    </tr>\n",
       "    <tr>\n",
       "      <th>2</th>\n",
       "      <td>3</td>\n",
       "      <td>39</td>\n",
       "    </tr>\n",
       "  </tbody>\n",
       "</table>\n",
       "</div>"
      ],
      "text/plain": [
       "   order_id  customer_id\n",
       "0         1         1314\n",
       "1         2           92\n",
       "2         3           39"
      ]
     },
     "execution_count": 44,
     "metadata": {},
     "output_type": "execute_result"
    }
   ],
   "source": [
    "df7"
   ]
  },
  {
   "cell_type": "code",
   "execution_count": 45,
   "id": "15355a1a-f25f-4964-9904-227dc5181c3f",
   "metadata": {},
   "outputs": [],
   "source": [
    "df7 = df7.rename(columns={'customer_id':'frequency'})"
   ]
  },
  {
   "cell_type": "code",
   "execution_count": 46,
   "id": "1d51dcde-01d0-42a6-ab96-b0e1ee10ecc4",
   "metadata": {},
   "outputs": [
    {
     "data": {
      "text/html": [
       "<div>\n",
       "<style scoped>\n",
       "    .dataframe tbody tr th:only-of-type {\n",
       "        vertical-align: middle;\n",
       "    }\n",
       "\n",
       "    .dataframe tbody tr th {\n",
       "        vertical-align: top;\n",
       "    }\n",
       "\n",
       "    .dataframe thead th {\n",
       "        text-align: right;\n",
       "    }\n",
       "</style>\n",
       "<table border=\"1\" class=\"dataframe\">\n",
       "  <thead>\n",
       "    <tr style=\"text-align: right;\">\n",
       "      <th></th>\n",
       "      <th>order_id</th>\n",
       "      <th>frequency</th>\n",
       "    </tr>\n",
       "  </thead>\n",
       "  <tbody>\n",
       "    <tr>\n",
       "      <th>0</th>\n",
       "      <td>1</td>\n",
       "      <td>1314</td>\n",
       "    </tr>\n",
       "    <tr>\n",
       "      <th>1</th>\n",
       "      <td>2</td>\n",
       "      <td>92</td>\n",
       "    </tr>\n",
       "    <tr>\n",
       "      <th>2</th>\n",
       "      <td>3</td>\n",
       "      <td>39</td>\n",
       "    </tr>\n",
       "  </tbody>\n",
       "</table>\n",
       "</div>"
      ],
      "text/plain": [
       "   order_id  frequency\n",
       "0         1       1314\n",
       "1         2         92\n",
       "2         3         39"
      ]
     },
     "execution_count": 46,
     "metadata": {},
     "output_type": "execute_result"
    }
   ],
   "source": [
    "df7"
   ]
  },
  {
   "cell_type": "code",
   "execution_count": 47,
   "id": "dbd04c46-8d25-4a0c-89ed-4260930424ff",
   "metadata": {},
   "outputs": [],
   "source": [
    "df7 = df7.rename(columns={'order_id':'customer_id'})"
   ]
  },
  {
   "cell_type": "code",
   "execution_count": 48,
   "id": "5f16b0b1-9631-44a7-b9c0-3936a9b082a8",
   "metadata": {},
   "outputs": [
    {
     "data": {
      "text/html": [
       "<div>\n",
       "<style scoped>\n",
       "    .dataframe tbody tr th:only-of-type {\n",
       "        vertical-align: middle;\n",
       "    }\n",
       "\n",
       "    .dataframe tbody tr th {\n",
       "        vertical-align: top;\n",
       "    }\n",
       "\n",
       "    .dataframe thead th {\n",
       "        text-align: right;\n",
       "    }\n",
       "</style>\n",
       "<table border=\"1\" class=\"dataframe\">\n",
       "  <thead>\n",
       "    <tr style=\"text-align: right;\">\n",
       "      <th></th>\n",
       "      <th>customer_id</th>\n",
       "      <th>frequency</th>\n",
       "    </tr>\n",
       "  </thead>\n",
       "  <tbody>\n",
       "    <tr>\n",
       "      <th>0</th>\n",
       "      <td>1</td>\n",
       "      <td>1314</td>\n",
       "    </tr>\n",
       "    <tr>\n",
       "      <th>1</th>\n",
       "      <td>2</td>\n",
       "      <td>92</td>\n",
       "    </tr>\n",
       "    <tr>\n",
       "      <th>2</th>\n",
       "      <td>3</td>\n",
       "      <td>39</td>\n",
       "    </tr>\n",
       "  </tbody>\n",
       "</table>\n",
       "</div>"
      ],
      "text/plain": [
       "   customer_id  frequency\n",
       "0            1       1314\n",
       "1            2         92\n",
       "2            3         39"
      ]
     },
     "execution_count": 48,
     "metadata": {},
     "output_type": "execute_result"
    }
   ],
   "source": [
    "df7"
   ]
  },
  {
   "cell_type": "code",
   "execution_count": 49,
   "id": "7b15da1f-903d-4738-8b12-6b24b58669c0",
   "metadata": {},
   "outputs": [
    {
     "data": {
      "image/png": "[encoded data removed]",
      "text/plain": [
       "<Figure size 640x480 with 1 Axes>"
      ]
     },
     "metadata": {},
     "output_type": "display_data"
    }
   ],
   "source": [
    "plt.bar(df7['customer_id'],df7['frequency'])\n",
    "plt.title(\"Frequently Order Customers\")\n",
    "plt.xlabel(\"Count of customers\")\n",
    "plt.ylabel(\"Count of orders\")\n",
    "plt.show()"
   ]
  },
  {
   "cell_type": "code",
   "execution_count": 47,
   "id": "056e95e8-820a-4429-87d7-247983dc162b",
   "metadata": {},
   "outputs": [],
   "source": [
    "df.rename(columns ={'orderid' :'order_id'},inplace=True)"
   ]
  },
  {
   "cell_type": "code",
   "execution_count": 50,
   "id": "6e37b63c-7a8b-444d-99a5-66a899ec566e",
   "metadata": {
    "scrolled": true
   },
   "outputs": [
    {
     "data": {
      "text/html": [
       "<div>\n",
       "<style scoped>\n",
       "    .dataframe tbody tr th:only-of-type {\n",
       "        vertical-align: middle;\n",
       "    }\n",
       "\n",
       "    .dataframe tbody tr th {\n",
       "        vertical-align: top;\n",
       "    }\n",
       "\n",
       "    .dataframe thead th {\n",
       "        text-align: right;\n",
       "    }\n",
       "</style>\n",
       "<table border=\"1\" class=\"dataframe\">\n",
       "  <thead>\n",
       "    <tr style=\"text-align: right;\">\n",
       "      <th></th>\n",
       "      <th>order_id</th>\n",
       "      <th>customer_id</th>\n",
       "      <th>order_status</th>\n",
       "      <th>order_date</th>\n",
       "      <th>required_date</th>\n",
       "      <th>shipped_date</th>\n",
       "      <th>store_id</th>\n",
       "      <th>staff_id</th>\n",
       "    </tr>\n",
       "  </thead>\n",
       "  <tbody>\n",
       "    <tr>\n",
       "      <th>0</th>\n",
       "      <td>1</td>\n",
       "      <td>259</td>\n",
       "      <td>4</td>\n",
       "      <td>1/1/2016</td>\n",
       "      <td>1/3/2016</td>\n",
       "      <td>1/3/2016</td>\n",
       "      <td>1</td>\n",
       "      <td>2</td>\n",
       "    </tr>\n",
       "    <tr>\n",
       "      <th>1</th>\n",
       "      <td>2</td>\n",
       "      <td>1212</td>\n",
       "      <td>4</td>\n",
       "      <td>1/1/2016</td>\n",
       "      <td>1/4/2016</td>\n",
       "      <td>1/3/2016</td>\n",
       "      <td>2</td>\n",
       "      <td>6</td>\n",
       "    </tr>\n",
       "    <tr>\n",
       "      <th>2</th>\n",
       "      <td>3</td>\n",
       "      <td>523</td>\n",
       "      <td>4</td>\n",
       "      <td>1/2/2016</td>\n",
       "      <td>1/5/2016</td>\n",
       "      <td>1/3/2016</td>\n",
       "      <td>2</td>\n",
       "      <td>7</td>\n",
       "    </tr>\n",
       "    <tr>\n",
       "      <th>3</th>\n",
       "      <td>4</td>\n",
       "      <td>175</td>\n",
       "      <td>4</td>\n",
       "      <td>1/3/2016</td>\n",
       "      <td>1/4/2016</td>\n",
       "      <td>1/5/2016</td>\n",
       "      <td>1</td>\n",
       "      <td>3</td>\n",
       "    </tr>\n",
       "    <tr>\n",
       "      <th>4</th>\n",
       "      <td>5</td>\n",
       "      <td>1324</td>\n",
       "      <td>4</td>\n",
       "      <td>1/3/2016</td>\n",
       "      <td>1/6/2016</td>\n",
       "      <td>1/6/2016</td>\n",
       "      <td>2</td>\n",
       "      <td>6</td>\n",
       "    </tr>\n",
       "    <tr>\n",
       "      <th>...</th>\n",
       "      <td>...</td>\n",
       "      <td>...</td>\n",
       "      <td>...</td>\n",
       "      <td>...</td>\n",
       "      <td>...</td>\n",
       "      <td>...</td>\n",
       "      <td>...</td>\n",
       "      <td>...</td>\n",
       "    </tr>\n",
       "    <tr>\n",
       "      <th>1610</th>\n",
       "      <td>1611</td>\n",
       "      <td>6</td>\n",
       "      <td>3</td>\n",
       "      <td>9/6/2018</td>\n",
       "      <td>9/6/2018</td>\n",
       "      <td>None</td>\n",
       "      <td>2</td>\n",
       "      <td>7</td>\n",
       "    </tr>\n",
       "    <tr>\n",
       "      <th>1611</th>\n",
       "      <td>1612</td>\n",
       "      <td>3</td>\n",
       "      <td>3</td>\n",
       "      <td>10/21/2018</td>\n",
       "      <td>10/21/2018</td>\n",
       "      <td>None</td>\n",
       "      <td>1</td>\n",
       "      <td>3</td>\n",
       "    </tr>\n",
       "    <tr>\n",
       "      <th>1612</th>\n",
       "      <td>1613</td>\n",
       "      <td>1</td>\n",
       "      <td>3</td>\n",
       "      <td>11/18/2018</td>\n",
       "      <td>11/18/2018</td>\n",
       "      <td>None</td>\n",
       "      <td>2</td>\n",
       "      <td>6</td>\n",
       "    </tr>\n",
       "    <tr>\n",
       "      <th>1613</th>\n",
       "      <td>1614</td>\n",
       "      <td>135</td>\n",
       "      <td>3</td>\n",
       "      <td>11/28/2018</td>\n",
       "      <td>11/28/2018</td>\n",
       "      <td>None</td>\n",
       "      <td>3</td>\n",
       "      <td>8</td>\n",
       "    </tr>\n",
       "    <tr>\n",
       "      <th>1614</th>\n",
       "      <td>1615</td>\n",
       "      <td>136</td>\n",
       "      <td>3</td>\n",
       "      <td>12/28/2018</td>\n",
       "      <td>12/28/2018</td>\n",
       "      <td>None</td>\n",
       "      <td>3</td>\n",
       "      <td>8</td>\n",
       "    </tr>\n",
       "  </tbody>\n",
       "</table>\n",
       "<p>1615 rows × 8 columns</p>\n",
       "</div>"
      ],
      "text/plain": [
       "      order_id  customer_id  order_status  order_date required_date  \\\n",
       "0            1          259             4    1/1/2016      1/3/2016   \n",
       "1            2         1212             4    1/1/2016      1/4/2016   \n",
       "2            3          523             4    1/2/2016      1/5/2016   \n",
       "3            4          175             4    1/3/2016      1/4/2016   \n",
       "4            5         1324             4    1/3/2016      1/6/2016   \n",
       "...        ...          ...           ...         ...           ...   \n",
       "1610      1611            6             3    9/6/2018      9/6/2018   \n",
       "1611      1612            3             3  10/21/2018    10/21/2018   \n",
       "1612      1613            1             3  11/18/2018    11/18/2018   \n",
       "1613      1614          135             3  11/28/2018    11/28/2018   \n",
       "1614      1615          136             3  12/28/2018    12/28/2018   \n",
       "\n",
       "     shipped_date  store_id  staff_id  \n",
       "0        1/3/2016         1         2  \n",
       "1        1/3/2016         2         6  \n",
       "2        1/3/2016         2         7  \n",
       "3        1/5/2016         1         3  \n",
       "4        1/6/2016         2         6  \n",
       "...           ...       ...       ...  \n",
       "1610         None         2         7  \n",
       "1611         None         1         3  \n",
       "1612         None         2         6  \n",
       "1613         None         3         8  \n",
       "1614         None         3         8  \n",
       "\n",
       "[1615 rows x 8 columns]"
      ]
     },
     "execution_count": 50,
     "metadata": {},
     "output_type": "execute_result"
    }
   ],
   "source": [
    "df"
   ]
  },
  {
   "cell_type": "code",
   "execution_count": 51,
   "id": "01a44a96-0e14-4e0c-8c92-db3ec857e061",
   "metadata": {},
   "outputs": [],
   "source": [
    "merge = pd.merge(df,df2, on = 'order_id')"
   ]
  },
  {
   "cell_type": "code",
   "execution_count": 52,
   "id": "e99964e5-ad5e-4526-9c28-a12efba027bb",
   "metadata": {
    "scrolled": true
   },
   "outputs": [
    {
     "data": {
      "text/html": [
       "<div>\n",
       "<style scoped>\n",
       "    .dataframe tbody tr th:only-of-type {\n",
       "        vertical-align: middle;\n",
       "    }\n",
       "\n",
       "    .dataframe tbody tr th {\n",
       "        vertical-align: top;\n",
       "    }\n",
       "\n",
       "    .dataframe thead th {\n",
       "        text-align: right;\n",
       "    }\n",
       "</style>\n",
       "<table border=\"1\" class=\"dataframe\">\n",
       "  <thead>\n",
       "    <tr style=\"text-align: right;\">\n",
       "      <th></th>\n",
       "      <th>order_id</th>\n",
       "      <th>customer_id</th>\n",
       "      <th>order_status</th>\n",
       "      <th>order_date</th>\n",
       "      <th>required_date</th>\n",
       "      <th>shipped_date</th>\n",
       "      <th>store_id</th>\n",
       "      <th>staff_id</th>\n",
       "      <th>item_id</th>\n",
       "      <th>product_id</th>\n",
       "      <th>quantity</th>\n",
       "      <th>list_price</th>\n",
       "      <th>discount</th>\n",
       "      <th>Total_Price</th>\n",
       "      <th>product_name</th>\n",
       "      <th>Categor_Id</th>\n",
       "      <th>Category_Name</th>\n",
       "    </tr>\n",
       "  </thead>\n",
       "  <tbody>\n",
       "    <tr>\n",
       "      <th>0</th>\n",
       "      <td>1</td>\n",
       "      <td>259</td>\n",
       "      <td>4</td>\n",
       "      <td>1/1/2016</td>\n",
       "      <td>1/3/2016</td>\n",
       "      <td>1/3/2016</td>\n",
       "      <td>1</td>\n",
       "      <td>2</td>\n",
       "      <td>1</td>\n",
       "      <td>20</td>\n",
       "      <td>1</td>\n",
       "      <td>599.99</td>\n",
       "      <td>0.20</td>\n",
       "      <td>599.79</td>\n",
       "      <td>Electra Townie Original 7D EQ - Women's - 2016</td>\n",
       "      <td>3</td>\n",
       "      <td>Cruisers Bicycles</td>\n",
       "    </tr>\n",
       "    <tr>\n",
       "      <th>1</th>\n",
       "      <td>1</td>\n",
       "      <td>259</td>\n",
       "      <td>4</td>\n",
       "      <td>1/1/2016</td>\n",
       "      <td>1/3/2016</td>\n",
       "      <td>1/3/2016</td>\n",
       "      <td>1</td>\n",
       "      <td>2</td>\n",
       "      <td>2</td>\n",
       "      <td>8</td>\n",
       "      <td>2</td>\n",
       "      <td>1799.99</td>\n",
       "      <td>0.07</td>\n",
       "      <td>3599.91</td>\n",
       "      <td>Trek Remedy 29 Carbon Frameset - 2016</td>\n",
       "      <td>6</td>\n",
       "      <td>Mountain Bikes</td>\n",
       "    </tr>\n",
       "    <tr>\n",
       "      <th>2</th>\n",
       "      <td>1</td>\n",
       "      <td>259</td>\n",
       "      <td>4</td>\n",
       "      <td>1/1/2016</td>\n",
       "      <td>1/3/2016</td>\n",
       "      <td>1/3/2016</td>\n",
       "      <td>1</td>\n",
       "      <td>2</td>\n",
       "      <td>3</td>\n",
       "      <td>10</td>\n",
       "      <td>2</td>\n",
       "      <td>1549.00</td>\n",
       "      <td>0.05</td>\n",
       "      <td>3097.95</td>\n",
       "      <td>Surly Straggler - 2016</td>\n",
       "      <td>4</td>\n",
       "      <td>Cyclocross Bicycles</td>\n",
       "    </tr>\n",
       "    <tr>\n",
       "      <th>3</th>\n",
       "      <td>1</td>\n",
       "      <td>259</td>\n",
       "      <td>4</td>\n",
       "      <td>1/1/2016</td>\n",
       "      <td>1/3/2016</td>\n",
       "      <td>1/3/2016</td>\n",
       "      <td>1</td>\n",
       "      <td>2</td>\n",
       "      <td>4</td>\n",
       "      <td>16</td>\n",
       "      <td>2</td>\n",
       "      <td>599.99</td>\n",
       "      <td>0.05</td>\n",
       "      <td>1199.93</td>\n",
       "      <td>Electra Townie Original 7D EQ - 2016</td>\n",
       "      <td>3</td>\n",
       "      <td>Cruisers Bicycles</td>\n",
       "    </tr>\n",
       "    <tr>\n",
       "      <th>4</th>\n",
       "      <td>1</td>\n",
       "      <td>259</td>\n",
       "      <td>4</td>\n",
       "      <td>1/1/2016</td>\n",
       "      <td>1/3/2016</td>\n",
       "      <td>1/3/2016</td>\n",
       "      <td>1</td>\n",
       "      <td>2</td>\n",
       "      <td>5</td>\n",
       "      <td>4</td>\n",
       "      <td>1</td>\n",
       "      <td>2899.99</td>\n",
       "      <td>0.20</td>\n",
       "      <td>2899.79</td>\n",
       "      <td>Trek Fuel EX 8 29 - 2016</td>\n",
       "      <td>6</td>\n",
       "      <td>Mountain Bikes</td>\n",
       "    </tr>\n",
       "    <tr>\n",
       "      <th>...</th>\n",
       "      <td>...</td>\n",
       "      <td>...</td>\n",
       "      <td>...</td>\n",
       "      <td>...</td>\n",
       "      <td>...</td>\n",
       "      <td>...</td>\n",
       "      <td>...</td>\n",
       "      <td>...</td>\n",
       "      <td>...</td>\n",
       "      <td>...</td>\n",
       "      <td>...</td>\n",
       "      <td>...</td>\n",
       "      <td>...</td>\n",
       "      <td>...</td>\n",
       "      <td>...</td>\n",
       "      <td>...</td>\n",
       "      <td>...</td>\n",
       "    </tr>\n",
       "    <tr>\n",
       "      <th>4717</th>\n",
       "      <td>1614</td>\n",
       "      <td>135</td>\n",
       "      <td>3</td>\n",
       "      <td>11/28/2018</td>\n",
       "      <td>11/28/2018</td>\n",
       "      <td>None</td>\n",
       "      <td>3</td>\n",
       "      <td>8</td>\n",
       "      <td>2</td>\n",
       "      <td>159</td>\n",
       "      <td>2</td>\n",
       "      <td>2299.99</td>\n",
       "      <td>0.07</td>\n",
       "      <td>4599.91</td>\n",
       "      <td>Trek Emonda ALR 6 - 2018</td>\n",
       "      <td>7</td>\n",
       "      <td>Road Bikes</td>\n",
       "    </tr>\n",
       "    <tr>\n",
       "      <th>4718</th>\n",
       "      <td>1614</td>\n",
       "      <td>135</td>\n",
       "      <td>3</td>\n",
       "      <td>11/28/2018</td>\n",
       "      <td>11/28/2018</td>\n",
       "      <td>None</td>\n",
       "      <td>3</td>\n",
       "      <td>8</td>\n",
       "      <td>3</td>\n",
       "      <td>213</td>\n",
       "      <td>2</td>\n",
       "      <td>269.99</td>\n",
       "      <td>0.20</td>\n",
       "      <td>539.78</td>\n",
       "      <td>Electra Cruiser 1 - 2016/2017/2018</td>\n",
       "      <td>3</td>\n",
       "      <td>Cruisers Bicycles</td>\n",
       "    </tr>\n",
       "    <tr>\n",
       "      <th>4719</th>\n",
       "      <td>1615</td>\n",
       "      <td>136</td>\n",
       "      <td>3</td>\n",
       "      <td>12/28/2018</td>\n",
       "      <td>12/28/2018</td>\n",
       "      <td>None</td>\n",
       "      <td>3</td>\n",
       "      <td>8</td>\n",
       "      <td>1</td>\n",
       "      <td>197</td>\n",
       "      <td>2</td>\n",
       "      <td>2299.99</td>\n",
       "      <td>0.20</td>\n",
       "      <td>4599.78</td>\n",
       "      <td>Trek Verve+ Lowstep - 2018</td>\n",
       "      <td>5</td>\n",
       "      <td>Electric Bikes</td>\n",
       "    </tr>\n",
       "    <tr>\n",
       "      <th>4720</th>\n",
       "      <td>1615</td>\n",
       "      <td>136</td>\n",
       "      <td>3</td>\n",
       "      <td>12/28/2018</td>\n",
       "      <td>12/28/2018</td>\n",
       "      <td>None</td>\n",
       "      <td>3</td>\n",
       "      <td>8</td>\n",
       "      <td>2</td>\n",
       "      <td>214</td>\n",
       "      <td>1</td>\n",
       "      <td>899.99</td>\n",
       "      <td>0.07</td>\n",
       "      <td>899.92</td>\n",
       "      <td>Electra Tiger Shark 3i - 2018</td>\n",
       "      <td>3</td>\n",
       "      <td>Cruisers Bicycles</td>\n",
       "    </tr>\n",
       "    <tr>\n",
       "      <th>4721</th>\n",
       "      <td>1615</td>\n",
       "      <td>136</td>\n",
       "      <td>3</td>\n",
       "      <td>12/28/2018</td>\n",
       "      <td>12/28/2018</td>\n",
       "      <td>None</td>\n",
       "      <td>3</td>\n",
       "      <td>8</td>\n",
       "      <td>3</td>\n",
       "      <td>182</td>\n",
       "      <td>1</td>\n",
       "      <td>2499.99</td>\n",
       "      <td>0.20</td>\n",
       "      <td>2499.79</td>\n",
       "      <td>Trek Domane SL 5 Disc - 2018</td>\n",
       "      <td>7</td>\n",
       "      <td>Road Bikes</td>\n",
       "    </tr>\n",
       "  </tbody>\n",
       "</table>\n",
       "<p>4722 rows × 17 columns</p>\n",
       "</div>"
      ],
      "text/plain": [
       "      order_id  customer_id  order_status  order_date required_date  \\\n",
       "0            1          259             4    1/1/2016      1/3/2016   \n",
       "1            1          259             4    1/1/2016      1/3/2016   \n",
       "2            1          259             4    1/1/2016      1/3/2016   \n",
       "3            1          259             4    1/1/2016      1/3/2016   \n",
       "4            1          259             4    1/1/2016      1/3/2016   \n",
       "...        ...          ...           ...         ...           ...   \n",
       "4717      1614          135             3  11/28/2018    11/28/2018   \n",
       "4718      1614          135             3  11/28/2018    11/28/2018   \n",
       "4719      1615          136             3  12/28/2018    12/28/2018   \n",
       "4720      1615          136             3  12/28/2018    12/28/2018   \n",
       "4721      1615          136             3  12/28/2018    12/28/2018   \n",
       "\n",
       "     shipped_date  store_id  staff_id  item_id  product_id  quantity  \\\n",
       "0        1/3/2016         1         2        1          20         1   \n",
       "1        1/3/2016         1         2        2           8         2   \n",
       "2        1/3/2016         1         2        3          10         2   \n",
       "3        1/3/2016         1         2        4          16         2   \n",
       "4        1/3/2016         1         2        5           4         1   \n",
       "...           ...       ...       ...      ...         ...       ...   \n",
       "4717         None         3         8        2         159         2   \n",
       "4718         None         3         8        3         213         2   \n",
       "4719         None         3         8        1         197         2   \n",
       "4720         None         3         8        2         214         1   \n",
       "4721         None         3         8        3         182         1   \n",
       "\n",
       "      list_price  discount  Total_Price  \\\n",
       "0         599.99      0.20       599.79   \n",
       "1        1799.99      0.07      3599.91   \n",
       "2        1549.00      0.05      3097.95   \n",
       "3         599.99      0.05      1199.93   \n",
       "4        2899.99      0.20      2899.79   \n",
       "...          ...       ...          ...   \n",
       "4717     2299.99      0.07      4599.91   \n",
       "4718      269.99      0.20       539.78   \n",
       "4719     2299.99      0.20      4599.78   \n",
       "4720      899.99      0.07       899.92   \n",
       "4721     2499.99      0.20      2499.79   \n",
       "\n",
       "                                        product_name  Categor_Id  \\\n",
       "0     Electra Townie Original 7D EQ - Women's - 2016           3   \n",
       "1              Trek Remedy 29 Carbon Frameset - 2016           6   \n",
       "2                             Surly Straggler - 2016           4   \n",
       "3               Electra Townie Original 7D EQ - 2016           3   \n",
       "4                           Trek Fuel EX 8 29 - 2016           6   \n",
       "...                                              ...         ...   \n",
       "4717                        Trek Emonda ALR 6 - 2018           7   \n",
       "4718              Electra Cruiser 1 - 2016/2017/2018           3   \n",
       "4719                      Trek Verve+ Lowstep - 2018           5   \n",
       "4720                   Electra Tiger Shark 3i - 2018           3   \n",
       "4721                    Trek Domane SL 5 Disc - 2018           7   \n",
       "\n",
       "            Category_Name  \n",
       "0       Cruisers Bicycles  \n",
       "1          Mountain Bikes  \n",
       "2     Cyclocross Bicycles  \n",
       "3       Cruisers Bicycles  \n",
       "4          Mountain Bikes  \n",
       "...                   ...  \n",
       "4717           Road Bikes  \n",
       "4718    Cruisers Bicycles  \n",
       "4719       Electric Bikes  \n",
       "4720    Cruisers Bicycles  \n",
       "4721           Road Bikes  \n",
       "\n",
       "[4722 rows x 17 columns]"
      ]
     },
     "execution_count": 52,
     "metadata": {},
     "output_type": "execute_result"
    }
   ],
   "source": [
    "merge"
   ]
  },
  {
   "cell_type": "code",
   "execution_count": 54,
   "id": "54ec9d0c-f9b8-4882-9911-39c4f842c922",
   "metadata": {},
   "outputs": [],
   "source": [
    "df8 = merge.groupby('customer_id')['Total_Price'].sum().reset_index()"
   ]
  },
  {
   "cell_type": "code",
   "execution_count": 55,
   "id": "b51a623a-1492-45fe-ba06-efd8e4e33d7e",
   "metadata": {},
   "outputs": [
    {
     "data": {
      "text/html": [
       "<div>\n",
       "<style scoped>\n",
       "    .dataframe tbody tr th:only-of-type {\n",
       "        vertical-align: middle;\n",
       "    }\n",
       "\n",
       "    .dataframe tbody tr th {\n",
       "        vertical-align: top;\n",
       "    }\n",
       "\n",
       "    .dataframe thead th {\n",
       "        text-align: right;\n",
       "    }\n",
       "</style>\n",
       "<table border=\"1\" class=\"dataframe\">\n",
       "  <thead>\n",
       "    <tr style=\"text-align: right;\">\n",
       "      <th></th>\n",
       "      <th>customer_id</th>\n",
       "      <th>Total_Price</th>\n",
       "    </tr>\n",
       "  </thead>\n",
       "  <tbody>\n",
       "    <tr>\n",
       "      <th>0</th>\n",
       "      <td>1</td>\n",
       "      <td>30644.78</td>\n",
       "    </tr>\n",
       "    <tr>\n",
       "      <th>1</th>\n",
       "      <td>2</td>\n",
       "      <td>21652.87</td>\n",
       "    </tr>\n",
       "    <tr>\n",
       "      <th>2</th>\n",
       "      <td>3</td>\n",
       "      <td>26248.66</td>\n",
       "    </tr>\n",
       "    <tr>\n",
       "      <th>3</th>\n",
       "      <td>4</td>\n",
       "      <td>24197.81</td>\n",
       "    </tr>\n",
       "    <tr>\n",
       "      <th>4</th>\n",
       "      <td>5</td>\n",
       "      <td>19442.01</td>\n",
       "    </tr>\n",
       "    <tr>\n",
       "      <th>...</th>\n",
       "      <td>...</td>\n",
       "      <td>...</td>\n",
       "    </tr>\n",
       "    <tr>\n",
       "      <th>1440</th>\n",
       "      <td>1441</td>\n",
       "      <td>10497.61</td>\n",
       "    </tr>\n",
       "    <tr>\n",
       "      <th>1441</th>\n",
       "      <td>1442</td>\n",
       "      <td>7841.32</td>\n",
       "    </tr>\n",
       "    <tr>\n",
       "      <th>1442</th>\n",
       "      <td>1443</td>\n",
       "      <td>11237.59</td>\n",
       "    </tr>\n",
       "    <tr>\n",
       "      <th>1443</th>\n",
       "      <td>1444</td>\n",
       "      <td>1749.57</td>\n",
       "    </tr>\n",
       "    <tr>\n",
       "      <th>1444</th>\n",
       "      <td>1445</td>\n",
       "      <td>9999.78</td>\n",
       "    </tr>\n",
       "  </tbody>\n",
       "</table>\n",
       "<p>1445 rows × 2 columns</p>\n",
       "</div>"
      ],
      "text/plain": [
       "      customer_id  Total_Price\n",
       "0               1     30644.78\n",
       "1               2     21652.87\n",
       "2               3     26248.66\n",
       "3               4     24197.81\n",
       "4               5     19442.01\n",
       "...           ...          ...\n",
       "1440         1441     10497.61\n",
       "1441         1442      7841.32\n",
       "1442         1443     11237.59\n",
       "1443         1444      1749.57\n",
       "1444         1445      9999.78\n",
       "\n",
       "[1445 rows x 2 columns]"
      ]
     },
     "execution_count": 55,
     "metadata": {},
     "output_type": "execute_result"
    }
   ],
   "source": [
    "df8"
   ]
  },
  {
   "cell_type": "code",
   "execution_count": 56,
   "id": "f328de0e-9b8b-4f37-97cb-920b31b83e57",
   "metadata": {},
   "outputs": [],
   "source": [
    "df9 =df8.head(5)"
   ]
  },
  {
   "cell_type": "code",
   "execution_count": 57,
   "id": "21df64d5-36d3-4f99-b9f3-7e71ef481b4a",
   "metadata": {},
   "outputs": [
    {
     "data": {
      "text/html": [
       "<div>\n",
       "<style scoped>\n",
       "    .dataframe tbody tr th:only-of-type {\n",
       "        vertical-align: middle;\n",
       "    }\n",
       "\n",
       "    .dataframe tbody tr th {\n",
       "        vertical-align: top;\n",
       "    }\n",
       "\n",
       "    .dataframe thead th {\n",
       "        text-align: right;\n",
       "    }\n",
       "</style>\n",
       "<table border=\"1\" class=\"dataframe\">\n",
       "  <thead>\n",
       "    <tr style=\"text-align: right;\">\n",
       "      <th></th>\n",
       "      <th>customer_id</th>\n",
       "      <th>Total_Price</th>\n",
       "    </tr>\n",
       "  </thead>\n",
       "  <tbody>\n",
       "    <tr>\n",
       "      <th>0</th>\n",
       "      <td>1</td>\n",
       "      <td>30644.78</td>\n",
       "    </tr>\n",
       "    <tr>\n",
       "      <th>1</th>\n",
       "      <td>2</td>\n",
       "      <td>21652.87</td>\n",
       "    </tr>\n",
       "    <tr>\n",
       "      <th>2</th>\n",
       "      <td>3</td>\n",
       "      <td>26248.66</td>\n",
       "    </tr>\n",
       "    <tr>\n",
       "      <th>3</th>\n",
       "      <td>4</td>\n",
       "      <td>24197.81</td>\n",
       "    </tr>\n",
       "    <tr>\n",
       "      <th>4</th>\n",
       "      <td>5</td>\n",
       "      <td>19442.01</td>\n",
       "    </tr>\n",
       "  </tbody>\n",
       "</table>\n",
       "</div>"
      ],
      "text/plain": [
       "   customer_id  Total_Price\n",
       "0            1     30644.78\n",
       "1            2     21652.87\n",
       "2            3     26248.66\n",
       "3            4     24197.81\n",
       "4            5     19442.01"
      ]
     },
     "execution_count": 57,
     "metadata": {},
     "output_type": "execute_result"
    }
   ],
   "source": [
    "df9"
   ]
  },
  {
   "cell_type": "code",
   "execution_count": 61,
   "id": "8d625ec1-f4fc-4046-bd7f-a61999573120",
   "metadata": {},
   "outputs": [],
   "source": [
    "df9 = df9.rename(columns={'Total_Price':'monetary'})"
   ]
  },
  {
   "cell_type": "code",
   "execution_count": 62,
   "id": "33362ff9-d49e-469b-9df2-4fac260725cd",
   "metadata": {},
   "outputs": [
    {
     "data": {
      "text/html": [
       "<div>\n",
       "<style scoped>\n",
       "    .dataframe tbody tr th:only-of-type {\n",
       "        vertical-align: middle;\n",
       "    }\n",
       "\n",
       "    .dataframe tbody tr th {\n",
       "        vertical-align: top;\n",
       "    }\n",
       "\n",
       "    .dataframe thead th {\n",
       "        text-align: right;\n",
       "    }\n",
       "</style>\n",
       "<table border=\"1\" class=\"dataframe\">\n",
       "  <thead>\n",
       "    <tr style=\"text-align: right;\">\n",
       "      <th></th>\n",
       "      <th>customer_id</th>\n",
       "      <th>monetary</th>\n",
       "    </tr>\n",
       "  </thead>\n",
       "  <tbody>\n",
       "    <tr>\n",
       "      <th>0</th>\n",
       "      <td>1</td>\n",
       "      <td>30644.78</td>\n",
       "    </tr>\n",
       "    <tr>\n",
       "      <th>1</th>\n",
       "      <td>2</td>\n",
       "      <td>21652.87</td>\n",
       "    </tr>\n",
       "    <tr>\n",
       "      <th>2</th>\n",
       "      <td>3</td>\n",
       "      <td>26248.66</td>\n",
       "    </tr>\n",
       "    <tr>\n",
       "      <th>3</th>\n",
       "      <td>4</td>\n",
       "      <td>24197.81</td>\n",
       "    </tr>\n",
       "    <tr>\n",
       "      <th>4</th>\n",
       "      <td>5</td>\n",
       "      <td>19442.01</td>\n",
       "    </tr>\n",
       "  </tbody>\n",
       "</table>\n",
       "</div>"
      ],
      "text/plain": [
       "   customer_id  monetary\n",
       "0            1  30644.78\n",
       "1            2  21652.87\n",
       "2            3  26248.66\n",
       "3            4  24197.81\n",
       "4            5  19442.01"
      ]
     },
     "execution_count": 62,
     "metadata": {},
     "output_type": "execute_result"
    }
   ],
   "source": [
    "df9"
   ]
  },
  {
   "cell_type": "code",
   "execution_count": 63,
   "id": "8582008b-b618-4619-9fb5-f77c94620acc",
   "metadata": {},
   "outputs": [
    {
     "data": {
      "image/png": "[encoded data removed]",
      "text/plain": [
       "<Figure size 640x480 with 1 Axes>"
      ]
     },
     "metadata": {},
     "output_type": "display_data"
    }
   ],
   "source": [
    "plt.bar(df9['customer_id'],df9['monetary'])\n",
    "plt.title(\"Top 5 Customers Based on monetary\")\n",
    "plt.show()"
   ]
  },
  {
   "cell_type": "code",
   "execution_count": 64,
   "id": "7af3ebfe-c6c4-44ef-bbec-698193dbb56b",
   "metadata": {},
   "outputs": [],
   "source": [
    "rfm = df5.merge(df7, on = 'customer_id').merge(df9, on = 'customer_id')"
   ]
  },
  {
   "cell_type": "code",
   "execution_count": 65,
   "id": "82ecfe09-bbda-4f62-b264-1996be1f9961",
   "metadata": {},
   "outputs": [
    {
     "data": {
      "text/html": [
       "<div>\n",
       "<style scoped>\n",
       "    .dataframe tbody tr th:only-of-type {\n",
       "        vertical-align: middle;\n",
       "    }\n",
       "\n",
       "    .dataframe tbody tr th {\n",
       "        vertical-align: top;\n",
       "    }\n",
       "\n",
       "    .dataframe thead th {\n",
       "        text-align: right;\n",
       "    }\n",
       "</style>\n",
       "<table border=\"1\" class=\"dataframe\">\n",
       "  <thead>\n",
       "    <tr style=\"text-align: right;\">\n",
       "      <th></th>\n",
       "      <th>customer_id</th>\n",
       "      <th>recency</th>\n",
       "      <th>frequency</th>\n",
       "      <th>monetary</th>\n",
       "    </tr>\n",
       "  </thead>\n",
       "  <tbody>\n",
       "    <tr>\n",
       "      <th>0</th>\n",
       "      <td>1</td>\n",
       "      <td>1314</td>\n",
       "      <td>1314</td>\n",
       "      <td>30644.78</td>\n",
       "    </tr>\n",
       "    <tr>\n",
       "      <th>1</th>\n",
       "      <td>2</td>\n",
       "      <td>92</td>\n",
       "      <td>92</td>\n",
       "      <td>21652.87</td>\n",
       "    </tr>\n",
       "    <tr>\n",
       "      <th>2</th>\n",
       "      <td>3</td>\n",
       "      <td>39</td>\n",
       "      <td>39</td>\n",
       "      <td>26248.66</td>\n",
       "    </tr>\n",
       "  </tbody>\n",
       "</table>\n",
       "</div>"
      ],
      "text/plain": [
       "   customer_id  recency  frequency  monetary\n",
       "0            1     1314       1314  30644.78\n",
       "1            2       92         92  21652.87\n",
       "2            3       39         39  26248.66"
      ]
     },
     "execution_count": 65,
     "metadata": {},
     "output_type": "execute_result"
    }
   ],
   "source": [
    "rfm"
   ]
  },
  {
   "cell_type": "code",
   "execution_count": 64,
   "id": "19bdcbcb-517f-4408-8b1d-9f9b4ac8ccb0",
   "metadata": {},
   "outputs": [],
   "source": [
    "rfm.to_csv(\"rfm.csv\", index=False)"
   ]
  },
  {
   "cell_type": "code",
   "execution_count": 66,
   "id": "1cf16e23-f340-45d6-b732-4b23ec9b2b39",
   "metadata": {},
   "outputs": [],
   "source": [
    "import sqlite3\n",
    "conn = sqlite3.connect(\"retailsales.db\")\n",
    "df.to_sql(\"segment\", conn, if_exists=\"replace\", index=False)\n",
    "conn.close()"
   ]
  },
  {
   "cell_type": "code",
   "execution_count": null,
   "id": "79e9bc2f-9380-4e12-a10c-c4388b8198e3",
   "metadata": {},
   "outputs": [],
   "source": []
  },
  {
   "cell_type": "code",
   "execution_count": null,
   "id": "f31add69-ff32-4842-a7a4-a516a7644463",
   "metadata": {},
   "outputs": [],
   "source": []
  },
  {
   "cell_type": "code",
   "execution_count": 67,
   "id": "b7f88db6-b739-428b-9f77-cc82540e7706",
   "metadata": {},
   "outputs": [
    {
     "data": {
      "text/html": [
       "<div>\n",
       "<style scoped>\n",
       "    .dataframe tbody tr th:only-of-type {\n",
       "        vertical-align: middle;\n",
       "    }\n",
       "\n",
       "    .dataframe tbody tr th {\n",
       "        vertical-align: top;\n",
       "    }\n",
       "\n",
       "    .dataframe thead th {\n",
       "        text-align: right;\n",
       "    }\n",
       "</style>\n",
       "<table border=\"1\" class=\"dataframe\">\n",
       "  <thead>\n",
       "    <tr style=\"text-align: right;\">\n",
       "      <th></th>\n",
       "      <th>customer_id</th>\n",
       "      <th>frequency</th>\n",
       "    </tr>\n",
       "  </thead>\n",
       "  <tbody>\n",
       "    <tr>\n",
       "      <th>0</th>\n",
       "      <td>1</td>\n",
       "      <td>1314</td>\n",
       "    </tr>\n",
       "    <tr>\n",
       "      <th>1</th>\n",
       "      <td>2</td>\n",
       "      <td>92</td>\n",
       "    </tr>\n",
       "    <tr>\n",
       "      <th>2</th>\n",
       "      <td>3</td>\n",
       "      <td>39</td>\n",
       "    </tr>\n",
       "  </tbody>\n",
       "</table>\n",
       "</div>"
      ],
      "text/plain": [
       "   customer_id  frequency\n",
       "0            1       1314\n",
       "1            2         92\n",
       "2            3         39"
      ]
     },
     "execution_count": 67,
     "metadata": {},
     "output_type": "execute_result"
    }
   ],
   "source": [
    "df7"
   ]
  },
  {
   "cell_type": "code",
   "execution_count": 68,
   "id": "7398c0a4-a73f-4cfe-8632-296501f18abd",
   "metadata": {},
   "outputs": [],
   "source": [
    "df11= df.groupby('customer_id')['order_id'].count().reset_index()"
   ]
  },
  {
   "cell_type": "code",
   "execution_count": 69,
   "id": "cd257761-efcf-4d65-b1a0-8b339df1562f",
   "metadata": {},
   "outputs": [
    {
     "data": {
      "text/html": [
       "<div>\n",
       "<style scoped>\n",
       "    .dataframe tbody tr th:only-of-type {\n",
       "        vertical-align: middle;\n",
       "    }\n",
       "\n",
       "    .dataframe tbody tr th {\n",
       "        vertical-align: top;\n",
       "    }\n",
       "\n",
       "    .dataframe thead th {\n",
       "        text-align: right;\n",
       "    }\n",
       "</style>\n",
       "<table border=\"1\" class=\"dataframe\">\n",
       "  <thead>\n",
       "    <tr style=\"text-align: right;\">\n",
       "      <th></th>\n",
       "      <th>customer_id</th>\n",
       "      <th>order_id</th>\n",
       "    </tr>\n",
       "  </thead>\n",
       "  <tbody>\n",
       "    <tr>\n",
       "      <th>0</th>\n",
       "      <td>1</td>\n",
       "      <td>3</td>\n",
       "    </tr>\n",
       "    <tr>\n",
       "      <th>1</th>\n",
       "      <td>2</td>\n",
       "      <td>3</td>\n",
       "    </tr>\n",
       "    <tr>\n",
       "      <th>2</th>\n",
       "      <td>3</td>\n",
       "      <td>3</td>\n",
       "    </tr>\n",
       "    <tr>\n",
       "      <th>3</th>\n",
       "      <td>4</td>\n",
       "      <td>3</td>\n",
       "    </tr>\n",
       "    <tr>\n",
       "      <th>4</th>\n",
       "      <td>5</td>\n",
       "      <td>3</td>\n",
       "    </tr>\n",
       "    <tr>\n",
       "      <th>...</th>\n",
       "      <td>...</td>\n",
       "      <td>...</td>\n",
       "    </tr>\n",
       "    <tr>\n",
       "      <th>1440</th>\n",
       "      <td>1441</td>\n",
       "      <td>1</td>\n",
       "    </tr>\n",
       "    <tr>\n",
       "      <th>1441</th>\n",
       "      <td>1442</td>\n",
       "      <td>1</td>\n",
       "    </tr>\n",
       "    <tr>\n",
       "      <th>1442</th>\n",
       "      <td>1443</td>\n",
       "      <td>1</td>\n",
       "    </tr>\n",
       "    <tr>\n",
       "      <th>1443</th>\n",
       "      <td>1444</td>\n",
       "      <td>1</td>\n",
       "    </tr>\n",
       "    <tr>\n",
       "      <th>1444</th>\n",
       "      <td>1445</td>\n",
       "      <td>1</td>\n",
       "    </tr>\n",
       "  </tbody>\n",
       "</table>\n",
       "<p>1445 rows × 2 columns</p>\n",
       "</div>"
      ],
      "text/plain": [
       "      customer_id  order_id\n",
       "0               1         3\n",
       "1               2         3\n",
       "2               3         3\n",
       "3               4         3\n",
       "4               5         3\n",
       "...           ...       ...\n",
       "1440         1441         1\n",
       "1441         1442         1\n",
       "1442         1443         1\n",
       "1443         1444         1\n",
       "1444         1445         1\n",
       "\n",
       "[1445 rows x 2 columns]"
      ]
     },
     "execution_count": 69,
     "metadata": {},
     "output_type": "execute_result"
    }
   ],
   "source": [
    "df11"
   ]
  },
  {
   "cell_type": "code",
   "execution_count": 70,
   "id": "46ad620f-c861-46ed-bdfa-0d7f4f9ad578",
   "metadata": {},
   "outputs": [],
   "source": [
    "df11.to_csv(\"frequency.csv\", index=False)"
   ]
  },
  {
   "cell_type": "code",
   "execution_count": null,
   "id": "7884b41a-48ee-49c7-a9f4-41e024467a10",
   "metadata": {},
   "outputs": [],
   "source": []
  },
  {
   "cell_type": "code",
   "execution_count": null,
   "id": "2577f458-8515-4d70-aca1-16a22c812b34",
   "metadata": {},
   "outputs": [],
   "source": []
  },
  {
   "cell_type": "code",
   "execution_count": null,
   "id": "0661b4d2-683d-43f1-bf8c-bcde180845d4",
   "metadata": {},
   "outputs": [],
   "source": []
  },
  {
   "cell_type": "code",
   "execution_count": null,
   "id": "1346f762-5fe2-43c3-a31c-c9948ee18492",
   "metadata": {},
   "outputs": [],
   "source": []
  },
  {
   "cell_type": "code",
   "execution_count": null,
   "id": "e80f4f55-03cf-4c4b-b69d-1e3a8273dc17",
   "metadata": {},
   "outputs": [],
   "source": []
  },
  {
   "cell_type": "code",
   "execution_count": null,
   "id": "6f9ec94d-85a4-4157-a409-6a64f71ca74f",
   "metadata": {},
   "outputs": [],
   "source": []
  },
  {
   "cell_type": "code",
   "execution_count": null,
   "id": "d9b19687-a9f8-4e81-9221-d102bd5972c2",
   "metadata": {},
   "outputs": [],
   "source": []
  },
  {
   "cell_type": "code",
   "execution_count": null,
   "id": "3d85e257-f1ae-468b-a51f-687fb7d064f1",
   "metadata": {},
   "outputs": [],
   "source": []
  },
  {
   "cell_type": "code",
   "execution_count": null,
   "id": "c2f4df42-1e15-4a67-9ba7-365bd07cd5b0",
   "metadata": {},
   "outputs": [],
   "source": []
  },
  {
   "cell_type": "code",
   "execution_count": null,
   "id": "5958058a-cfa5-4138-8e99-bedd9c092a0f",
   "metadata": {},
   "outputs": [],
   "source": []
  },
  {
   "cell_type": "code",
   "execution_count": null,
   "id": "650d87d5-462d-4570-9893-87e3aec49fdb",
   "metadata": {},
   "outputs": [],
   "source": []
  },
  {
   "cell_type": "code",
   "execution_count": null,
   "id": "f5099056-00d8-4e36-8d7d-bd0d8f345586",
   "metadata": {},
   "outputs": [],
   "source": []
  },
  {
   "cell_type": "code",
   "execution_count": null,
   "id": "a9c8460d-d601-4386-a64f-b91ae8e8f4ee",
   "metadata": {},
   "outputs": [],
   "source": []
  },
  {
   "cell_type": "code",
   "execution_count": null,
   "id": "a1e7e2eb-213d-4072-a6ee-b83b4ca80c10",
   "metadata": {},
   "outputs": [],
   "source": []
  },
  {
   "cell_type": "code",
   "execution_count": null,
   "id": "b0837cf2-3162-4efe-ba0d-fd0c5086f3a1",
   "metadata": {},
   "outputs": [],
   "source": []
  },
  {
   "cell_type": "code",
   "execution_count": null,
   "id": "65b9ea25-324f-4c86-a4b4-39706c3e7a47",
   "metadata": {},
   "outputs": [],
   "source": []
  },
  {
   "cell_type": "code",
   "execution_count": null,
   "id": "2477a12d-c413-4e38-b3ae-e1fffd18f6d6",
   "metadata": {},
   "outputs": [],
   "source": []
  },
  {
   "cell_type": "code",
   "execution_count": null,
   "id": "176cf594-4394-4fed-b11c-f13e6fd101fe",
   "metadata": {},
   "outputs": [],
   "source": []
  },
  {
   "cell_type": "code",
   "execution_count": null,
   "id": "ae5f4299-028d-4a1e-a364-cfcc310831e4",
   "metadata": {},
   "outputs": [],
   "source": []
  },
  {
   "cell_type": "code",
   "execution_count": null,
   "id": "f62c923c-34de-4594-a69e-b59004567461",
   "metadata": {},
   "outputs": [],
   "source": []
  },
  {
   "cell_type": "code",
   "execution_count": null,
   "id": "fe5bcba9-a26c-4fc2-aad3-8de7db1f954c",
   "metadata": {},
   "outputs": [],
   "source": []
  },
  {
   "cell_type": "code",
   "execution_count": null,
   "id": "98d2bca7-5097-487c-9719-7f3ce3a65696",
   "metadata": {},
   "outputs": [],
   "source": []
  },
  {
   "cell_type": "code",
   "execution_count": null,
   "id": "eee09e7d-78cf-4b65-89d4-d04c682dd16f",
   "metadata": {},
   "outputs": [],
   "source": []
  },
  {
   "cell_type": "code",
   "execution_count": null,
   "id": "f4650141-9e0a-4fb5-9512-5bdca0781c08",
   "metadata": {},
   "outputs": [],
   "source": []
  },
  {
   "cell_type": "code",
   "execution_count": null,
   "id": "f7e9664b-bb26-42df-b147-7dd5cf0da1d8",
   "metadata": {},
   "outputs": [],
   "source": []
  },
  {
   "cell_type": "code",
   "execution_count": null,
   "id": "67d29112-70ef-40bd-9ca8-757a1a63a911",
   "metadata": {},
   "outputs": [],
   "source": []
  },
  {
   "cell_type": "code",
   "execution_count": null,
   "id": "6334a2dd-36a1-47d5-a8f5-89a495d4d403",
   "metadata": {},
   "outputs": [],
   "source": []
  },
  {
   "cell_type": "code",
   "execution_count": null,
   "id": "25854251-f931-4d70-a2be-18ad585e9884",
   "metadata": {},
   "outputs": [],
   "source": []
  },
  {
   "cell_type": "code",
   "execution_count": null,
   "id": "76c68fc9-0b3d-42e4-9468-580d27edc6a9",
   "metadata": {},
   "outputs": [],
   "source": []
  },
  {
   "cell_type": "code",
   "execution_count": null,
   "id": "5628c27b-5bb7-4704-9364-e42499434fcc",
   "metadata": {},
   "outputs": [],
   "source": []
  },
  {
   "cell_type": "code",
   "execution_count": null,
   "id": "d881fb8a-d222-4ffe-b79c-bc7b38d2e216",
   "metadata": {},
   "outputs": [],
   "source": []
  },
  {
   "cell_type": "code",
   "execution_count": null,
   "id": "02b0d00e-10fa-4725-a238-5dc438b67616",
   "metadata": {},
   "outputs": [],
   "source": []
  },
  {
   "cell_type": "code",
   "execution_count": null,
   "id": "d900ebb0-9934-451b-8233-ea94144d19f9",
   "metadata": {},
   "outputs": [],
   "source": []
  },
  {
   "cell_type": "code",
   "execution_count": null,
   "id": "9987df44-f422-4eec-a736-d7e4858f8459",
   "metadata": {},
   "outputs": [],
   "source": []
  },
  {
   "cell_type": "code",
   "execution_count": null,
   "id": "3ad7027b-edfa-410c-a0fe-17849a2cc584",
   "metadata": {},
   "outputs": [],
   "source": []
  },
  {
   "cell_type": "code",
   "execution_count": null,
   "id": "f01f2bcc-d76a-485f-a7b3-202ba77a6ce0",
   "metadata": {},
   "outputs": [],
   "source": []
  },
  {
   "cell_type": "code",
   "execution_count": null,
   "id": "a2011f19-dbde-47e8-8b19-86a9910e6937",
   "metadata": {},
   "outputs": [],
   "source": []
  },
  {
   "cell_type": "code",
   "execution_count": null,
   "id": "7d774d18-1840-49b9-904d-b4d627950439",
   "metadata": {},
   "outputs": [],
   "source": []
  },
  {
   "cell_type": "code",
   "execution_count": null,
   "id": "de23a773-7969-4b31-b7c8-a0bcac9e77a6",
   "metadata": {},
   "outputs": [],
   "source": []
  },
  {
   "cell_type": "code",
   "execution_count": null,
   "id": "14fe0921-c83a-4a30-8375-c73be176b7aa",
   "metadata": {},
   "outputs": [],
   "source": []
  }
 ],
 "metadata": {
  "kernelspec": {
   "display_name": "Python 3 (ipykernel)",
   "language": "python",
   "name": "python3"
  },
  "language_info": {
   "codemirror_mode": {
    "name": "ipython",
    "version": 3
   },
   "file_extension": ".py",
   "mimetype": "text/x-python",
   "name": "python",
   "nbconvert_exporter": "python",
   "pygments_lexer": "ipython3",
   "version": "3.13.7"
  }
 },
 "nbformat": 4,
 "nbformat_minor": 5
}
